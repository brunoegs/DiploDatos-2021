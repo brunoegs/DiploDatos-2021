{
  "nbformat": 4,
  "nbformat_minor": 0,
  "metadata": {
    "kernelspec": {
      "display_name": "Python 3",
      "language": "python",
      "name": "python3"
    },
    "language_info": {
      "codemirror_mode": {
        "name": "ipython",
        "version": 3
      },
      "file_extension": ".py",
      "mimetype": "text/x-python",
      "name": "python",
      "nbconvert_exporter": "python",
      "pygments_lexer": "ipython3",
      "version": "3.8.10"
    },
    "colab": {
      "name": "Copia de Lab 2.ipynb",
      "provenance": [],
      "collapsed_sections": [],
      "include_colab_link": true
    }
  },
  "cells": [
    {
      "cell_type": "markdown",
      "metadata": {
        "id": "view-in-github",
        "colab_type": "text"
      },
      "source": [
        "<a href=\"https://colab.research.google.com/github/brunoegs/DiploDatos2021/blob/main/intro-aprendizaje-automatico/entregables/entregable-parte-2.ipynb\" target=\"_parent\"><img src=\"https://colab.research.google.com/assets/colab-badge.svg\" alt=\"Open In Colab\"/></a>"
      ]
    },
    {
      "cell_type": "markdown",
      "metadata": {
        "id": "vGPWb8DJRvi5"
      },
      "source": [
        "# Laboratorio 2: Armado de un esquema de aprendizaje automático\n",
        "\n",
        "En el laboratorio final se espera que puedan poner en práctica los conocimientos adquiridos en el curso, trabajando con un conjunto de datos de clasificación.\n",
        "\n",
        "El objetivo es que se introduzcan en el desarrollo de un esquema para hacer tareas de aprendizaje automático: selección de un modelo, ajuste de hiperparámetros y evaluación.\n",
        "\n",
        "El conjunto de datos a utilizar está en `./data/loan_data.csv`. Si abren el archivo verán que al principio (las líneas que empiezan con `#`) describen el conjunto de datos y sus atributos (incluyendo el atributo de etiqueta o clase).\n",
        "\n",
        "Se espera que hagan uso de las herramientas vistas en el curso. Se espera que hagan uso especialmente de las herramientas brindadas por `scikit-learn`."
      ]
    },
    {
      "cell_type": "code",
      "metadata": {
        "id": "9J3PBqkiRvi6"
      },
      "source": [
        "# TODO: Agregar las librerías que hagan falta\n",
        "import numpy as np\n",
        "import pandas as pd\n",
        "import seaborn as sns\n",
        "import matplotlib.pyplot as plt\n",
        "from sklearn import metrics as ms\n",
        "from sklearn.model_selection import train_test_split\n",
        "\n",
        "from sklearn.linear_model import SGDClassifier\n",
        "from sklearn.model_selection import GridSearchCV\n",
        "from sklearn.model_selection import ParameterGrid\n",
        "from sklearn.tree import DecisionTreeClassifier\n",
        "\n",
        "from sklearn.metrics import precision_score\n",
        "from sklearn.metrics import recall_score\n",
        "from sklearn.metrics import f1_score\n",
        "from sklearn.metrics import accuracy_score\n",
        "from sklearn.metrics import confusion_matrix\n",
        "from sklearn.metrics import classification_report\n",
        "from sklearn.tree import plot_tree\n",
        "from sklearn.model_selection import RandomizedSearchCV\n",
        "from sklearn.utils.fixes import loguniform\n",
        "from scipy import stats\n",
        "from sklearn.metrics import plot_confusion_matrix\n",
        "\n",
        "import warnings\n",
        "warnings.filterwarnings('ignore')\n"
      ],
      "execution_count": null,
      "outputs": []
    },
    {
      "cell_type": "markdown",
      "metadata": {
        "id": "Ytr4NXfCRvi7"
      },
      "source": [
        "## Carga de datos y división en entrenamiento y evaluación\n",
        "\n",
        "La celda siguiente se encarga de la carga de datos (haciendo uso de pandas). Estos serán los que se trabajarán en el resto del laboratorio."
      ]
    },
    {
      "cell_type": "code",
      "metadata": {
        "id": "qY7vJLMVRvi8",
        "colab": {
          "base_uri": "https://localhost:8080/",
          "height": 99
        },
        "outputId": "7e12909c-2ab1-490e-9e20-f243b084fd07"
      },
      "source": [
        "! git clone https://github.com/DiploDatos/IntroduccionAprendizajeAutomatico\n",
        "\n",
        "dataset = pd.read_csv(\"/content/IntroduccionAprendizajeAutomatico/data/loan_data.csv\", comment=\"#\") \n",
        "\n",
        "# División entre instancias y etiquetas\n",
        "X, y = dataset.iloc[:, 1:], dataset.TARGET\n",
        "\n",
        "# división entre entrenamiento y evaluación\n",
        "X_train, X_test, y_train, y_test = train_test_split(X, y, test_size=0.2, random_state=0)\n",
        "\n",
        "dataset.head(1)"
      ],
      "execution_count": null,
      "outputs": [
        {
          "output_type": "stream",
          "name": "stdout",
          "text": [
            "fatal: destination path 'IntroduccionAprendizajeAutomatico' already exists and is not an empty directory.\n"
          ]
        },
        {
          "output_type": "execute_result",
          "data": {
            "text/html": [
              "<div>\n",
              "<style scoped>\n",
              "    .dataframe tbody tr th:only-of-type {\n",
              "        vertical-align: middle;\n",
              "    }\n",
              "\n",
              "    .dataframe tbody tr th {\n",
              "        vertical-align: top;\n",
              "    }\n",
              "\n",
              "    .dataframe thead th {\n",
              "        text-align: right;\n",
              "    }\n",
              "</style>\n",
              "<table border=\"1\" class=\"dataframe\">\n",
              "  <thead>\n",
              "    <tr style=\"text-align: right;\">\n",
              "      <th></th>\n",
              "      <th>TARGET</th>\n",
              "      <th>LOAN</th>\n",
              "      <th>MORTDUE</th>\n",
              "      <th>VALUE</th>\n",
              "      <th>YOJ</th>\n",
              "      <th>DEROG</th>\n",
              "      <th>DELINQ</th>\n",
              "      <th>CLAGE</th>\n",
              "      <th>NINQ</th>\n",
              "      <th>CLNO</th>\n",
              "      <th>DEBTINC</th>\n",
              "    </tr>\n",
              "  </thead>\n",
              "  <tbody>\n",
              "    <tr>\n",
              "      <th>0</th>\n",
              "      <td>0</td>\n",
              "      <td>4700</td>\n",
              "      <td>88026.0</td>\n",
              "      <td>115506.0</td>\n",
              "      <td>6.0</td>\n",
              "      <td>0.0</td>\n",
              "      <td>0.0</td>\n",
              "      <td>182.248332</td>\n",
              "      <td>0.0</td>\n",
              "      <td>27.0</td>\n",
              "      <td>29.209023</td>\n",
              "    </tr>\n",
              "  </tbody>\n",
              "</table>\n",
              "</div>"
            ],
            "text/plain": [
              "   TARGET  LOAN  MORTDUE     VALUE  ...       CLAGE  NINQ  CLNO    DEBTINC\n",
              "0       0  4700  88026.0  115506.0  ...  182.248332   0.0  27.0  29.209023\n",
              "\n",
              "[1 rows x 11 columns]"
            ]
          },
          "metadata": {},
          "execution_count": 55
        }
      ]
    },
    {
      "cell_type": "markdown",
      "metadata": {
        "id": "C2JqUz2WRvi9"
      },
      "source": [
        "\n",
        "Documentación:\n",
        "\n",
        "- https://scikit-learn.org/stable/modules/generated/sklearn.model_selection.train_test_split.html"
      ]
    },
    {
      "cell_type": "markdown",
      "metadata": {
        "id": "emsMar_vRvi9"
      },
      "source": [
        "## Ejercicio 1: Descripción de los Datos y la Tarea\n",
        "\n",
        "Responder las siguientes preguntas:\n",
        "\n",
        "1. ¿De qué se trata el conjunto de datos?\n",
        "2. ¿Cuál es la variable objetivo que hay que predecir? ¿Qué significado tiene?\n",
        "3. ¿Qué información (atributos) hay disponible para hacer la predicción?\n",
        "4. ¿Qué atributos imagina ud. que son los más determinantes para la predicción?\n",
        "\n",
        "**No hace falta escribir código para responder estas preguntas.**"
      ]
    },
    {
      "cell_type": "markdown",
      "metadata": {
        "id": "xNgUb6qPa6Qx"
      },
      "source": [
        "1- El dataset contiene datos recopilados de solicitantes de créditos recientes a los que se les otorgó el crédito a través del proceso actual de suscripción de préstamos. El conjunto de datos sobre el valor líquido de la vivienda (HMEQ) contiene información de referencia y de rendimiento de préstamos para 5,960 préstamos sobre el valor líquido de la vivienda recientes. Para cada solicitante, se registraron 12 variables de entrada.\n",
        "\n",
        "2- La variable objetivo es la variable 'TARGET', la cual es una variable binaria, que indica si un solicitante finalmente incurrió en incumplimiento o en grave mora. Esta toma los valores '1' cuando el cliente ha incumplido en el préstamo, o '0' cuando el préstamo fue reembolsado. Esta variable se utilizará para predecir  El departamento de crédito al consumo de un banco desea automatizar el proceso de toma de decisiones para la aprobación de líneas de crédito con garantía hipotecaria.\n",
        "\n",
        "3- Los atributos que hay disponibles, además de la variable objetivo, son:\n",
        "\n",
        "* LOAN: Monto de la solicitud de préstamo.\n",
        "* MORTDUE: Monto adeudado de la hipoteca existente.\n",
        "* VALUE: Valor de la propiedad actual.\n",
        "* YOJ: Años en el trabajo actual.\n",
        "* DEROG: Número de informes despectivos importantes.\n",
        "* DELINQ: Número de líneas de crédito morosas.\n",
        "* CLAGE: Edad de la línea comercial más antigua en meses.\n",
        "* NINQ: Número de líneas de crédito recientes.\n",
        "* CLNO: Número de líneas de crédito.\n",
        "* DEBTINC: Relación deuda-ingresos.\n",
        "\n",
        "4- Los atributos que se consideran relevantes para predecir la variable son DELINQ y DEROG, en primera instancia, ya que son los atributos con los que más se encuentran diferencias entre las etiquetas (0 y 1) de la variable objetivo. En segundo lugar YOJ, NINQ, y DEBTINC, ya que si bien se observa una diferencia entre las etiquetas, esta es menor con respecto a los casos anteriores. "
      ]
    },
    {
      "cell_type": "code",
      "metadata": {
        "colab": {
          "base_uri": "https://localhost:8080/",
          "height": 144
        },
        "id": "_5oqJiXHElY7",
        "outputId": "ce148c1c-0cfa-42d1-9116-99ba270d3bbc"
      },
      "source": [
        "dataset[['LOAN',\t'MORTDUE',\t'VALUE',\t'YOJ',\t'DEROG',\t'DELINQ',\t'CLAGE',\t'NINQ',\t'CLNO',\t'DEBTINC']].groupby(dataset['TARGET']).mean().round(2)"
      ],
      "execution_count": null,
      "outputs": [
        {
          "output_type": "execute_result",
          "data": {
            "text/html": [
              "<div>\n",
              "<style scoped>\n",
              "    .dataframe tbody tr th:only-of-type {\n",
              "        vertical-align: middle;\n",
              "    }\n",
              "\n",
              "    .dataframe tbody tr th {\n",
              "        vertical-align: top;\n",
              "    }\n",
              "\n",
              "    .dataframe thead th {\n",
              "        text-align: right;\n",
              "    }\n",
              "</style>\n",
              "<table border=\"1\" class=\"dataframe\">\n",
              "  <thead>\n",
              "    <tr style=\"text-align: right;\">\n",
              "      <th></th>\n",
              "      <th>LOAN</th>\n",
              "      <th>MORTDUE</th>\n",
              "      <th>VALUE</th>\n",
              "      <th>YOJ</th>\n",
              "      <th>DEROG</th>\n",
              "      <th>DELINQ</th>\n",
              "      <th>CLAGE</th>\n",
              "      <th>NINQ</th>\n",
              "      <th>CLNO</th>\n",
              "      <th>DEBTINC</th>\n",
              "    </tr>\n",
              "    <tr>\n",
              "      <th>TARGET</th>\n",
              "      <th></th>\n",
              "      <th></th>\n",
              "      <th></th>\n",
              "      <th></th>\n",
              "      <th></th>\n",
              "      <th></th>\n",
              "      <th></th>\n",
              "      <th></th>\n",
              "      <th></th>\n",
              "      <th></th>\n",
              "    </tr>\n",
              "  </thead>\n",
              "  <tbody>\n",
              "    <tr>\n",
              "      <th>0</th>\n",
              "      <td>19319.55</td>\n",
              "      <td>76798.12</td>\n",
              "      <td>108209.45</td>\n",
              "      <td>9.17</td>\n",
              "      <td>0.10</td>\n",
              "      <td>0.19</td>\n",
              "      <td>186.32</td>\n",
              "      <td>1.03</td>\n",
              "      <td>21.75</td>\n",
              "      <td>33.46</td>\n",
              "    </tr>\n",
              "    <tr>\n",
              "      <th>1</th>\n",
              "      <td>18072.82</td>\n",
              "      <td>73905.72</td>\n",
              "      <td>102879.28</td>\n",
              "      <td>7.57</td>\n",
              "      <td>0.63</td>\n",
              "      <td>0.98</td>\n",
              "      <td>150.21</td>\n",
              "      <td>1.64</td>\n",
              "      <td>22.39</td>\n",
              "      <td>40.12</td>\n",
              "    </tr>\n",
              "  </tbody>\n",
              "</table>\n",
              "</div>"
            ],
            "text/plain": [
              "            LOAN   MORTDUE      VALUE   YOJ  ...   CLAGE  NINQ   CLNO  DEBTINC\n",
              "TARGET                                       ...                              \n",
              "0       19319.55  76798.12  108209.45  9.17  ...  186.32  1.03  21.75    33.46\n",
              "1       18072.82  73905.72  102879.28  7.57  ...  150.21  1.64  22.39    40.12\n",
              "\n",
              "[2 rows x 10 columns]"
            ]
          },
          "metadata": {},
          "execution_count": 56
        }
      ]
    },
    {
      "cell_type": "code",
      "metadata": {
        "colab": {
          "base_uri": "https://localhost:8080/",
          "height": 1000
        },
        "id": "-gWLyqHGH9iP",
        "outputId": "19e7fb13-645f-4341-c566-3fbbe0e4478d"
      },
      "source": [
        "columnas= [dataset['LOAN'],\tdataset['MORTDUE'],\tdataset['VALUE'],\tdataset['YOJ'],\tdataset['DEROG'],\tdataset['DELINQ'], dataset['CLAGE'],\tdataset['NINQ'], dataset['CLNO'], dataset['DEBTINC']]\n",
        "\n",
        "for columna in columnas:\n",
        "  fig= plt.figure(figsize= (4, 4))\n",
        "  sns.barplot(dataset['TARGET'], columna, color='purple')"
      ],
      "execution_count": null,
      "outputs": [
        {
          "output_type": "display_data",
          "data": {
            "image/png": "[encoded data removed]",
            "text/plain": [
              "<Figure size 288x288 with 1 Axes>"
            ]
          },
          "metadata": {
            "needs_background": "light"
          }
        },
        {
          "output_type": "display_data",
          "data": {
            "image/png": "[encoded data removed]",
            "text/plain": [
              "<Figure size 288x288 with 1 Axes>"
            ]
          },
          "metadata": {
            "needs_background": "light"
          }
        },
        {
          "output_type": "display_data",
          "data": {
            "image/png": "[encoded data removed]",
            "text/plain": [
              "<Figure size 288x288 with 1 Axes>"
            ]
          },
          "metadata": {
            "needs_background": "light"
          }
        },
        {
          "output_type": "display_data",
          "data": {
            "image/png": "[encoded data removed]",
            "text/plain": [
              "<Figure size 288x288 with 1 Axes>"
            ]
          },
          "metadata": {
            "needs_background": "light"
          }
        },
        {
          "output_type": "display_data",
          "data": {
            "image/png": "[encoded data removed]",
            "text/plain": [
              "<Figure size 288x288 with 1 Axes>"
            ]
          },
          "metadata": {
            "needs_background": "light"
          }
        },
        {
          "output_type": "display_data",
          "data": {
            "image/png": "[encoded data removed]",
            "text/plain": [
              "<Figure size 288x288 with 1 Axes>"
            ]
          },
          "metadata": {
            "needs_background": "light"
          }
        },
        {
          "output_type": "display_data",
          "data": {
            "image/png": "[encoded data removed]",
            "text/plain": [
              "<Figure size 288x288 with 1 Axes>"
            ]
          },
          "metadata": {
            "needs_background": "light"
          }
        },
        {
          "output_type": "display_data",
          "data": {
            "image/png": "[encoded data removed]",
            "text/plain": [
              "<Figure size 288x288 with 1 Axes>"
            ]
          },
          "metadata": {
            "needs_background": "light"
          }
        },
        {
          "output_type": "display_data",
          "data": {
            "image/png": "[encoded data removed]",
            "text/plain": [
              "<Figure size 288x288 with 1 Axes>"
            ]
          },
          "metadata": {
            "needs_background": "light"
          }
        },
        {
          "output_type": "display_data",
          "data": {
            "image/png": "[encoded data removed]",
            "text/plain": [
              "<Figure size 288x288 with 1 Axes>"
            ]
          },
          "metadata": {
            "needs_background": "light"
          }
        }
      ]
    },
    {
      "cell_type": "markdown",
      "metadata": {
        "id": "NXa2e3P8a0Mt"
      },
      "source": [
        "## Ejercicio 2: Predicción con Modelos Lineales\n",
        "\n",
        "En este ejercicio se entrenarán modelos lineales de clasificación para predecir la variable objetivo.\n",
        "\n",
        "Para ello, deberán utilizar la clase SGDClassifier de scikit-learn.\n",
        "\n",
        "Documentación:\n",
        "- https://scikit-learn.org/stable/modules/sgd.html\n",
        "- https://scikit-learn.org/stable/modules/generated/sklearn.linear_model.SGDClassifier.html\n"
      ]
    },
    {
      "cell_type": "markdown",
      "metadata": {
        "id": "gtOEYH5Qa0Mt"
      },
      "source": [
        "### Ejercicio 2.1: SGDClassifier con hiperparámetros por defecto\n",
        "\n",
        "Entrenar y evaluar el clasificador SGDClassifier usando los valores por omisión de scikit-learn para todos los parámetros. Únicamente **fijar la semilla aleatoria** para hacer repetible el experimento.\n",
        "\n",
        "Evaluar sobre el conjunto de **entrenamiento** y sobre el conjunto de **evaluación**, reportando:\n",
        "- Accuracy\n",
        "- Precision\n",
        "- Recall\n",
        "- F1\n",
        "- matriz de confusión"
      ]
    },
    {
      "cell_type": "code",
      "metadata": {
        "id": "eXGJh9H2i4rg"
      },
      "source": [
        "# SGDClasifier requiere que los datos esten escalados.\n",
        "from sklearn.preprocessing import StandardScaler\n",
        "scaler=StandardScaler()\n",
        "X_train_scaled=scaler.fit_transform(X_train)\n",
        "X_test_scaled=scaler.fit_transform(X_test)"
      ],
      "execution_count": null,
      "outputs": []
    },
    {
      "cell_type": "code",
      "metadata": {
        "colab": {
          "base_uri": "https://localhost:8080/"
        },
        "id": "XqU4yr7fDlZc",
        "outputId": "f0f53d83-b76b-4d88-90b9-d7ce4a4b8bcd"
      },
      "source": [
        "#entrenamiento\n",
        "clf = SGDClassifier(random_state=0)\n",
        "clf.fit(X_train_scaled, y_train)\n",
        "\n",
        "#prediccion\n",
        "y_train_predict= clf.predict(X_train_scaled)\n",
        "y_test_predict= clf.predict(X_test_scaled)\n",
        "\n",
        "#evaluacion\n",
        "Reporte_test= classification_report(y_test, y_test_predict)\n",
        "Reporte_train= classification_report(y_train, y_train_predict)\n",
        "\n",
        "print(f'Entrenamiento=\\n', 'Reporte train=\\n', Reporte_train)\n",
        "print('')\n",
        "print(f'Evaluación=\\n', 'Reporte test=\\n', Reporte_test)"
      ],
      "execution_count": null,
      "outputs": [
        {
          "output_type": "stream",
          "name": "stdout",
          "text": [
            "Entrenamiento=\n",
            " Reporte train=\n",
            "               precision    recall  f1-score   support\n",
            "\n",
            "           0       0.89      0.97      0.93      1232\n",
            "           1       0.71      0.42      0.53       251\n",
            "\n",
            "    accuracy                           0.87      1483\n",
            "   macro avg       0.80      0.69      0.73      1483\n",
            "weighted avg       0.86      0.87      0.86      1483\n",
            "\n",
            "\n",
            "Evaluación=\n",
            " Reporte test=\n",
            "               precision    recall  f1-score   support\n",
            "\n",
            "           0       0.89      0.96      0.92       313\n",
            "           1       0.63      0.33      0.43        58\n",
            "\n",
            "    accuracy                           0.87       371\n",
            "   macro avg       0.76      0.65      0.68       371\n",
            "weighted avg       0.85      0.87      0.85       371\n",
            "\n"
          ]
        }
      ]
    },
    {
      "cell_type": "code",
      "metadata": {
        "colab": {
          "base_uri": "https://localhost:8080/"
        },
        "id": "vK800m-rcAav",
        "outputId": "e0b50064-9235-4bfa-d415-b66ca8df2a94"
      },
      "source": [
        "confusion_matrix(y_test, y_test_predict)\n",
        "\n",
        "# plot_confusion_matrix(classifier, X_test, y_test,"
      ],
      "execution_count": null,
      "outputs": [
        {
          "output_type": "execute_result",
          "data": {
            "text/plain": [
              "array([[302,  11],\n",
              "       [ 39,  19]])"
            ]
          },
          "metadata": {},
          "execution_count": 60
        }
      ]
    },
    {
      "cell_type": "code",
      "metadata": {
        "colab": {
          "base_uri": "https://localhost:8080/"
        },
        "id": "jmMgaZyteP6x",
        "outputId": "f279927b-dbd8-4af0-e6c6-2c5cd8078588"
      },
      "source": [
        "tn, fp, fn, tp = confusion_matrix(y_test, y_test_predict).ravel()\n",
        "(tn, fp, fn, tp)"
      ],
      "execution_count": null,
      "outputs": [
        {
          "output_type": "execute_result",
          "data": {
            "text/plain": [
              "(302, 11, 39, 19)"
            ]
          },
          "metadata": {},
          "execution_count": 61
        }
      ]
    },
    {
      "cell_type": "code",
      "metadata": {
        "colab": {
          "base_uri": "https://localhost:8080/",
          "height": 300
        },
        "id": "A-EpYgG1eSLs",
        "outputId": "f958a417-27a3-4f1f-df9d-f01a9f0363b8"
      },
      "source": [
        "plot_confusion_matrix(clf, X_test_scaled, y_test, cmap='Purples')"
      ],
      "execution_count": null,
      "outputs": [
        {
          "output_type": "execute_result",
          "data": {
            "text/plain": [
              "<sklearn.metrics._plot.confusion_matrix.ConfusionMatrixDisplay at 0x7f2867c5cfd0>"
            ]
          },
          "metadata": {},
          "execution_count": 62
        },
        {
          "output_type": "display_data",
          "data": {
            "image/png": "[encoded data removed]",
            "text/plain": [
              "<Figure size 432x288 with 2 Axes>"
            ]
          },
          "metadata": {
            "needs_background": "light"
          }
        }
      ]
    },
    {
      "cell_type": "markdown",
      "metadata": {
        "id": "IdtRnpSXa0Mu"
      },
      "source": [
        "### Ejercicio 2.2: Ajuste de Hiperparámetros\n",
        "\n",
        "Seleccionar valores para los hiperparámetros principales del SGDClassifier. Como mínimo, probar diferentes funciones de loss, tasas de entrenamiento y tasas de regularización.\n",
        "\n",
        "Para ello, usar grid-search y 5-fold cross-validation sobre el conjunto de entrenamiento para explorar muchas combinaciones posibles de valores.\n",
        "\n",
        "Reportar accuracy promedio y varianza para todas las configuraciones.\n",
        "\n",
        "Para la mejor configuración encontrada, evaluar sobre el conjunto de **entrenamiento** y sobre el conjunto de **evaluación**, reportando:\n",
        "- Accuracy\n",
        "- Precision\n",
        "- Recall\n",
        "- F1\n",
        "- matriz de confusión\n",
        "\n",
        "Documentación:\n",
        "- https://scikit-learn.org/stable/modules/grid_search.html\n",
        "- https://scikit-learn.org/stable/modules/generated/sklearn.model_selection.GridSearchCV.html"
      ]
    },
    {
      "cell_type": "code",
      "metadata": {
        "id": "5Gtp0jFUQzZJ",
        "colab": {
          "base_uri": "https://localhost:8080/",
          "height": 175
        },
        "outputId": "4f033e9c-478c-42cd-c9d2-3ad82509631f"
      },
      "source": [
        "param_grid = {'loss':['hinge', 'log', 'modified_huber','squared_hinge', 'perceptron', 'squared_loss',\n",
        "        'huber', 'epsilon_insensitive', 'squared_epsilon_insensitive'],\n",
        "              'alpha': loguniform(1e-4, 1e2),\n",
        "              'penalty': ['l2', 'l1', 'elasticnet']}\n",
        "\n",
        "model_clf = SGDClassifier(random_state=0)\n",
        "cv = RandomizedSearchCV(model_clf, param_grid, n_iter=10, scoring='accuracy', cv=3, random_state=0) \n",
        "cv.fit(X_train_scaled, y_train)\n",
        "\n",
        "results = cv.cv_results_\n",
        "df = pd.DataFrame(results)\n",
        "df[df.rank_test_score<5][['mean_test_score', 'std_test_score', 'rank_test_score', 'params', 'param_loss', 'param_alpha']]"
      ],
      "execution_count": null,
      "outputs": [
        {
          "output_type": "execute_result",
          "data": {
            "text/html": [
              "<div>\n",
              "<style scoped>\n",
              "    .dataframe tbody tr th:only-of-type {\n",
              "        vertical-align: middle;\n",
              "    }\n",
              "\n",
              "    .dataframe tbody tr th {\n",
              "        vertical-align: top;\n",
              "    }\n",
              "\n",
              "    .dataframe thead th {\n",
              "        text-align: right;\n",
              "    }\n",
              "</style>\n",
              "<table border=\"1\" class=\"dataframe\">\n",
              "  <thead>\n",
              "    <tr style=\"text-align: right;\">\n",
              "      <th></th>\n",
              "      <th>mean_test_score</th>\n",
              "      <th>std_test_score</th>\n",
              "      <th>rank_test_score</th>\n",
              "      <th>params</th>\n",
              "      <th>param_loss</th>\n",
              "      <th>param_alpha</th>\n",
              "    </tr>\n",
              "  </thead>\n",
              "  <tbody>\n",
              "    <tr>\n",
              "      <th>0</th>\n",
              "      <td>0.857723</td>\n",
              "      <td>0.002394</td>\n",
              "      <td>4</td>\n",
              "      <td>{'alpha': 0.196282248134428, 'loss': 'squared_...</td>\n",
              "      <td>squared_loss</td>\n",
              "      <td>0.196282</td>\n",
              "    </tr>\n",
              "    <tr>\n",
              "      <th>2</th>\n",
              "      <td>0.857724</td>\n",
              "      <td>0.004031</td>\n",
              "      <td>3</td>\n",
              "      <td>{'alpha': 0.5512926225087423, 'loss': 'modifie...</td>\n",
              "      <td>modified_huber</td>\n",
              "      <td>0.551293</td>\n",
              "    </tr>\n",
              "    <tr>\n",
              "      <th>3</th>\n",
              "      <td>0.859070</td>\n",
              "      <td>0.000894</td>\n",
              "      <td>2</td>\n",
              "      <td>{'alpha': 0.0060982839082360536, 'loss': 'squa...</td>\n",
              "      <td>squared_epsilon_insensitive</td>\n",
              "      <td>0.00609828</td>\n",
              "    </tr>\n",
              "    <tr>\n",
              "      <th>4</th>\n",
              "      <td>0.867843</td>\n",
              "      <td>0.008351</td>\n",
              "      <td>1</td>\n",
              "      <td>{'alpha': 0.00432451858115581, 'loss': 'log', ...</td>\n",
              "      <td>log</td>\n",
              "      <td>0.00432452</td>\n",
              "    </tr>\n",
              "  </tbody>\n",
              "</table>\n",
              "</div>"
            ],
            "text/plain": [
              "   mean_test_score  std_test_score  ...                   param_loss param_alpha\n",
              "0         0.857723        0.002394  ...                 squared_loss    0.196282\n",
              "2         0.857724        0.004031  ...               modified_huber    0.551293\n",
              "3         0.859070        0.000894  ...  squared_epsilon_insensitive  0.00609828\n",
              "4         0.867843        0.008351  ...                          log  0.00432452\n",
              "\n",
              "[4 rows x 6 columns]"
            ]
          },
          "metadata": {},
          "execution_count": 63
        }
      ]
    },
    {
      "cell_type": "code",
      "metadata": {
        "id": "iUrESvGyhcZI",
        "colab": {
          "base_uri": "https://localhost:8080/"
        },
        "outputId": "ac64e9af-88b3-4db8-9dea-a649cfa78a4d"
      },
      "source": [
        "cv.best_estimator_"
      ],
      "execution_count": null,
      "outputs": [
        {
          "output_type": "execute_result",
          "data": {
            "text/plain": [
              "SGDClassifier(alpha=0.00432451858115581, average=False, class_weight=None,\n",
              "              early_stopping=False, epsilon=0.1, eta0=0.0, fit_intercept=True,\n",
              "              l1_ratio=0.15, learning_rate='optimal', loss='log', max_iter=1000,\n",
              "              n_iter_no_change=5, n_jobs=None, penalty='elasticnet',\n",
              "              power_t=0.5, random_state=0, shuffle=True, tol=0.001,\n",
              "              validation_fraction=0.1, verbose=0, warm_start=False)"
            ]
          },
          "metadata": {},
          "execution_count": 64
        }
      ]
    },
    {
      "cell_type": "code",
      "metadata": {
        "id": "z6O2wNZ4hiIb",
        "colab": {
          "base_uri": "https://localhost:8080/"
        },
        "outputId": "882ae74e-9dd7-481e-b012-0a1c4905fe65"
      },
      "source": [
        "cv.best_params_"
      ],
      "execution_count": null,
      "outputs": [
        {
          "output_type": "execute_result",
          "data": {
            "text/plain": [
              "{'alpha': 0.00432451858115581, 'loss': 'log', 'penalty': 'elasticnet'}"
            ]
          },
          "metadata": {},
          "execution_count": 65
        }
      ]
    },
    {
      "cell_type": "code",
      "metadata": {
        "colab": {
          "base_uri": "https://localhost:8080/"
        },
        "id": "fBVUGE-w0aRQ",
        "outputId": "df2d22e0-20c0-42bb-9676-39ce4bdd7769"
      },
      "source": [
        "#entrenamiento\n",
        "mejor_modelo = SGDClassifier(alpha= 0.00432451858115581, loss= 'log', penalty= 'elasticnet', random_state=0)\n",
        "mejor_modelo.fit(X_train_scaled, y_train)\n",
        "\n",
        "#prediccion\n",
        "y_train_predict_mm= mejor_modelo.predict(X_train_scaled)\n",
        "y_test_predict_mm= mejor_modelo.predict(X_test_scaled)\n",
        "\n",
        "#evaluacion\n",
        "Reporte_test_mm= classification_report(y_test, y_test_predict_mm)\n",
        "Reporte_train_mm= classification_report(y_train, y_train_predict_mm)\n",
        "\n",
        "print(f'Entrenamiento=\\n', 'Reporte train mejor modelo=\\n', Reporte_train_mm)\n",
        "print('')\n",
        "print(f'Evaluación=\\n', 'Reporte test mejor modelo=\\n', Reporte_test_mm)"
      ],
      "execution_count": null,
      "outputs": [
        {
          "output_type": "stream",
          "name": "stdout",
          "text": [
            "Entrenamiento=\n",
            " Reporte train mejor modelo=\n",
            "               precision    recall  f1-score   support\n",
            "\n",
            "           0       0.88      0.98      0.93      1232\n",
            "           1       0.80      0.33      0.47       251\n",
            "\n",
            "    accuracy                           0.87      1483\n",
            "   macro avg       0.84      0.66      0.70      1483\n",
            "weighted avg       0.87      0.87      0.85      1483\n",
            "\n",
            "\n",
            "Evaluación=\n",
            " Reporte test mejor modelo=\n",
            "               precision    recall  f1-score   support\n",
            "\n",
            "           0       0.89      0.98      0.93       313\n",
            "           1       0.80      0.34      0.48        58\n",
            "\n",
            "    accuracy                           0.88       371\n",
            "   macro avg       0.85      0.66      0.71       371\n",
            "weighted avg       0.88      0.88      0.86       371\n",
            "\n"
          ]
        }
      ]
    },
    {
      "cell_type": "code",
      "metadata": {
        "colab": {
          "base_uri": "https://localhost:8080/",
          "height": 297
        },
        "id": "VsNvXUNs10O0",
        "outputId": "bfc48943-a9ca-4d5c-8346-9e3c97742a87"
      },
      "source": [
        "plot_confusion_matrix(mejor_modelo, X_test_scaled, y_test, cmap='Purples')"
      ],
      "execution_count": null,
      "outputs": [
        {
          "output_type": "execute_result",
          "data": {
            "text/plain": [
              "<sklearn.metrics._plot.confusion_matrix.ConfusionMatrixDisplay at 0x7f2867c83f90>"
            ]
          },
          "metadata": {},
          "execution_count": 67
        },
        {
          "output_type": "display_data",
          "data": {
            "image/png": "[encoded data removed]",
            "text/plain": [
              "<Figure size 432x288 with 2 Axes>"
            ]
          },
          "metadata": {
            "needs_background": "light"
          }
        }
      ]
    },
    {
      "cell_type": "markdown",
      "metadata": {
        "id": "zRhxnEICoLjv"
      },
      "source": [
        "#### Comparacion busqueda de hiperparametros vs hiperparametros por defecto"
      ]
    },
    {
      "cell_type": "code",
      "metadata": {
        "colab": {
          "base_uri": "https://localhost:8080/"
        },
        "id": "A4VktTjwoonM",
        "outputId": "4d858bad-0662-4d7d-b741-d6bde3fb0a05"
      },
      "source": [
        "print('Hiperparametros por defecto')\n",
        "#print(f'Entrenamiento=\\n', 'Reporte train=\\n', Reporte_train)\n",
        "#print('')\n",
        "print(f'Evaluación=\\n', 'Reporte test=\\n', Reporte_test)\n",
        "print('Ajuste de hiperparametros')\n",
        "#print(f'Entrenamiento=\\n', 'Reporte train mejor modelo=\\n', Reporte_train_mm)\n",
        "#print('')\n",
        "print(f'Evaluación=\\n', 'Reporte test mejor modelo=\\n', Reporte_test_mm)"
      ],
      "execution_count": null,
      "outputs": [
        {
          "output_type": "stream",
          "name": "stdout",
          "text": [
            "Hiperparametros por defecto\n",
            "Evaluación=\n",
            " Reporte test=\n",
            "               precision    recall  f1-score   support\n",
            "\n",
            "           0       0.89      0.96      0.92       313\n",
            "           1       0.63      0.33      0.43        58\n",
            "\n",
            "    accuracy                           0.87       371\n",
            "   macro avg       0.76      0.65      0.68       371\n",
            "weighted avg       0.85      0.87      0.85       371\n",
            "\n",
            "Ajuste de hiperparametros\n",
            "Evaluación=\n",
            " Reporte test mejor modelo=\n",
            "               precision    recall  f1-score   support\n",
            "\n",
            "           0       0.89      0.98      0.93       313\n",
            "           1       0.80      0.34      0.48        58\n",
            "\n",
            "    accuracy                           0.88       371\n",
            "   macro avg       0.85      0.66      0.71       371\n",
            "weighted avg       0.88      0.88      0.86       371\n",
            "\n"
          ]
        }
      ]
    },
    {
      "cell_type": "markdown",
      "metadata": {
        "id": "b9vOfRuqqH37"
      },
      "source": [
        "Al realizar el ajuste de hiperparametros obtenemos mejoras, tanto en 'accuracy' como en 'f1-score', sobre el conjunto de test."
      ]
    },
    {
      "cell_type": "markdown",
      "metadata": {
        "id": "xjr4mubva0Mu"
      },
      "source": [
        "## Ejercicio 3: Árboles de Decisión\n",
        "\n",
        "En este ejercicio se entrenarán árboles de decisión para predecir la variable objetivo.\n",
        "\n",
        "Para ello, deberán utilizar la clase DecisionTreeClassifier de scikit-learn.\n",
        "\n",
        "Documentación:\n",
        "- https://scikit-learn.org/stable/modules/tree.html\n",
        "  - https://scikit-learn.org/stable/modules/tree.html#tips-on-practical-use\n",
        "- https://scikit-learn.org/stable/modules/generated/sklearn.tree.DecisionTreeClassifier.html\n",
        "- https://scikit-learn.org/stable/auto_examples/tree/plot_unveil_tree_structure.html"
      ]
    },
    {
      "cell_type": "markdown",
      "metadata": {
        "id": "wlnd4B4wa0Mv"
      },
      "source": [
        "### Ejercicio 3.1: DecisionTreeClassifier con hiperparámetros por defecto\n",
        "\n",
        "Entrenar y evaluar el clasificador DecisionTreeClassifier usando los valores por omisión de scikit-learn para todos los parámetros. Únicamente **fijar la semilla aleatoria** para hacer repetible el experimento.\n",
        "\n",
        "Evaluar sobre el conjunto de **entrenamiento** y sobre el conjunto de **evaluación**, reportando:\n",
        "- Accuracy\n",
        "- Precision\n",
        "- Recall\n",
        "- F1\n",
        "- matriz de confusión\n"
      ]
    },
    {
      "cell_type": "code",
      "metadata": {
        "colab": {
          "base_uri": "https://localhost:8080/"
        },
        "id": "fsElLcnoIQbY",
        "outputId": "c0be574c-4b3b-4fbe-b9bd-a2f77d459912"
      },
      "source": [
        "#entrenamiento\n",
        "dtc = DecisionTreeClassifier(random_state=0)\n",
        "dtc.fit(X_train, y_train)\n",
        "\n",
        "#prediccion \n",
        "y_train_predict_dtc= dtc.predict(X_train)\n",
        "y_test_predict_dtc= dtc.predict(X_test)\n",
        "\n",
        "#evaluacion\n",
        "Reporte_test_dtc= classification_report(y_test, y_test_predict_dtc)\n",
        "Reporte_train_dtc= classification_report(y_train, y_train_predict_dtc)\n",
        "\n",
        "print(f'Entrenamiento=\\n', 'Reporte train=\\n', Reporte_train_dtc)\n",
        "print('')\n",
        "print(f'Evaluación=\\n', 'Reporte test=\\n', Reporte_test_dtc)\n"
      ],
      "execution_count": null,
      "outputs": [
        {
          "output_type": "stream",
          "name": "stdout",
          "text": [
            "Entrenamiento=\n",
            " Reporte train=\n",
            "               precision    recall  f1-score   support\n",
            "\n",
            "           0       1.00      1.00      1.00      1232\n",
            "           1       1.00      1.00      1.00       251\n",
            "\n",
            "    accuracy                           1.00      1483\n",
            "   macro avg       1.00      1.00      1.00      1483\n",
            "weighted avg       1.00      1.00      1.00      1483\n",
            "\n",
            "\n",
            "Evaluación=\n",
            " Reporte test=\n",
            "               precision    recall  f1-score   support\n",
            "\n",
            "           0       0.93      0.93      0.93       313\n",
            "           1       0.62      0.64      0.63        58\n",
            "\n",
            "    accuracy                           0.88       371\n",
            "   macro avg       0.77      0.78      0.78       371\n",
            "weighted avg       0.88      0.88      0.88       371\n",
            "\n"
          ]
        }
      ]
    },
    {
      "cell_type": "code",
      "metadata": {
        "colab": {
          "base_uri": "https://localhost:8080/",
          "height": 297
        },
        "id": "cqbnmaME-bGX",
        "outputId": "0ad508ee-a74f-49ff-bb73-f43d5b5f4d9d"
      },
      "source": [
        "plot_confusion_matrix(dtc, X_test, y_test, cmap='Purples')"
      ],
      "execution_count": null,
      "outputs": [
        {
          "output_type": "execute_result",
          "data": {
            "text/plain": [
              "<sklearn.metrics._plot.confusion_matrix.ConfusionMatrixDisplay at 0x7f286731a590>"
            ]
          },
          "metadata": {},
          "execution_count": 70
        },
        {
          "output_type": "display_data",
          "data": {
            "image/png": "[encoded data removed]",
            "text/plain": [
              "<Figure size 432x288 with 2 Axes>"
            ]
          },
          "metadata": {
            "needs_background": "light"
          }
        }
      ]
    },
    {
      "cell_type": "code",
      "metadata": {
        "colab": {
          "base_uri": "https://localhost:8080/",
          "height": 1000
        },
        "id": "v_7lG4R6-nvN",
        "outputId": "aaab32f0-da0e-4c1f-a302-03e0657be6a0"
      },
      "source": [
        "plot_tree(dtc)"
      ],
      "execution_count": null,
      "outputs": [
        {
          "output_type": "execute_result",
          "data": {
            "text/plain": [
              "[Text(289.32823606915616, 212.71304347826086, 'X[9] <= 43.681\\ngini = 0.281\\nsamples = 1483\\nvalue = [1232, 251]'),\n",
              " Text(254.87373545857704, 203.2591304347826, 'X[5] <= 1.5\\ngini = 0.227\\nsamples = 1409\\nvalue = [1225, 184]'),\n",
              " Text(212.8193135805643, 193.80521739130435, 'X[4] <= 1.5\\ngini = 0.189\\nsamples = 1313\\nvalue = [1174, 139]'),\n",
              " Text(163.82799665788292, 184.3513043478261, 'X[6] <= 173.132\\ngini = 0.169\\nsamples = 1274\\nvalue = [1155, 119]'),\n",
              " Text(94.76567902821519, 174.89739130434782, 'X[2] <= 84241.5\\ngini = 0.249\\nsamples = 612\\nvalue = [523, 89]'),\n",
              " Text(56.37740214666753, 165.44347826086957, 'X[0] <= 16850.0\\ngini = 0.345\\nsamples = 257\\nvalue = [200, 57]'),\n",
              " Text(30.125329391349062, 155.98956521739132, 'X[2] <= 50823.0\\ngini = 0.413\\nsamples = 168\\nvalue = [119, 49]'),\n",
              " Text(5.5086316601324, 146.53565217391304, 'X[6] <= 69.725\\ngini = 0.499\\nsamples = 40\\nvalue = [21, 19]'),\n",
              " Text(2.7543158300662, 137.08173913043478, 'gini = 0.0\\nsamples = 10\\nvalue = [10, 0]'),\n",
              " Text(8.262947490198599, 137.08173913043478, 'X[0] <= 9700.0\\ngini = 0.464\\nsamples = 30\\nvalue = [11, 19]'),\n",
              " Text(5.5086316601324, 127.62782608695652, 'gini = 0.0\\nsamples = 13\\nvalue = [0, 13]'),\n",
              " Text(11.0172633202648, 127.62782608695652, 'X[6] <= 123.703\\ngini = 0.457\\nsamples = 17\\nvalue = [11, 6]'),\n",
              " Text(8.262947490198599, 118.17391304347825, 'gini = 0.0\\nsamples = 10\\nvalue = [10, 0]'),\n",
              " Text(13.771579150331, 118.17391304347825, 'X[9] <= 23.785\\ngini = 0.245\\nsamples = 7\\nvalue = [1, 6]'),\n",
              " Text(11.0172633202648, 108.72, 'gini = 0.0\\nsamples = 1\\nvalue = [1, 0]'),\n",
              " Text(16.525894980397197, 108.72, 'gini = 0.0\\nsamples = 6\\nvalue = [0, 6]'),\n",
              " Text(54.74202712256572, 146.53565217391304, 'X[7] <= 4.0\\ngini = 0.359\\nsamples = 128\\nvalue = [98, 30]'),\n",
              " Text(46.13479015360885, 137.08173913043478, 'X[2] <= 82193.0\\ngini = 0.32\\nsamples = 120\\nvalue = [96, 24]'),\n",
              " Text(37.1832637058937, 127.62782608695652, 'X[3] <= 11.5\\ngini = 0.287\\nsamples = 115\\nvalue = [95, 20]'),\n",
              " Text(27.543158300662, 118.17391304347825, 'X[6] <= 82.263\\ngini = 0.225\\nsamples = 93\\nvalue = [81, 12]'),\n",
              " Text(22.0345266405296, 108.72, 'X[0] <= 11050.0\\ngini = 0.48\\nsamples = 15\\nvalue = [9, 6]'),\n",
              " Text(19.280210810463398, 99.26608695652173, 'X[2] <= 77108.0\\ngini = 0.298\\nsamples = 11\\nvalue = [9, 2]'),\n",
              " Text(16.525894980397197, 89.81217391304348, 'X[6] <= 79.306\\ngini = 0.18\\nsamples = 10\\nvalue = [9, 1]'),\n",
              " Text(13.771579150331, 80.35826086956521, 'gini = 0.0\\nsamples = 8\\nvalue = [8, 0]'),\n",
              " Text(19.280210810463398, 80.35826086956521, 'X[8] <= 16.0\\ngini = 0.5\\nsamples = 2\\nvalue = [1, 1]'),\n",
              " Text(16.525894980397197, 70.90434782608696, 'gini = 0.0\\nsamples = 1\\nvalue = [1, 0]'),\n",
              " Text(22.0345266405296, 70.90434782608696, 'gini = 0.0\\nsamples = 1\\nvalue = [0, 1]'),\n",
              " Text(22.0345266405296, 89.81217391304348, 'gini = 0.0\\nsamples = 1\\nvalue = [0, 1]'),\n",
              " Text(24.7888424705958, 99.26608695652173, 'gini = 0.0\\nsamples = 4\\nvalue = [0, 4]'),\n",
              " Text(33.051789960794395, 108.72, 'X[0] <= 10050.0\\ngini = 0.142\\nsamples = 78\\nvalue = [72, 6]'),\n",
              " Text(30.297474130728197, 99.26608695652173, 'X[2] <= 55316.0\\ngini = 0.266\\nsamples = 38\\nvalue = [32, 6]'),\n",
              " Text(27.543158300662, 89.81217391304348, 'gini = 0.0\\nsamples = 1\\nvalue = [0, 1]'),\n",
              " Text(33.051789960794395, 89.81217391304348, 'X[8] <= 18.5\\ngini = 0.234\\nsamples = 37\\nvalue = [32, 5]'),\n",
              " Text(30.297474130728197, 80.35826086956521, 'gini = 0.0\\nsamples = 15\\nvalue = [15, 0]'),\n",
              " Text(35.8061057908606, 80.35826086956521, 'X[8] <= 21.5\\ngini = 0.351\\nsamples = 22\\nvalue = [17, 5]'),\n",
              " Text(30.297474130728197, 70.90434782608696, 'X[9] <= 37.903\\ngini = 0.494\\nsamples = 9\\nvalue = [5, 4]'),\n",
              " Text(27.543158300662, 61.45043478260868, 'gini = 0.0\\nsamples = 4\\nvalue = [0, 4]'),\n",
              " Text(33.051789960794395, 61.45043478260868, 'gini = 0.0\\nsamples = 5\\nvalue = [5, 0]'),\n",
              " Text(41.314737450993, 70.90434782608696, 'X[6] <= 98.975\\ngini = 0.142\\nsamples = 13\\nvalue = [12, 1]'),\n",
              " Text(38.560421620926796, 61.45043478260868, 'X[3] <= 6.5\\ngini = 0.5\\nsamples = 2\\nvalue = [1, 1]'),\n",
              " Text(35.8061057908606, 51.99652173913043, 'gini = 0.0\\nsamples = 1\\nvalue = [0, 1]'),\n",
              " Text(41.314737450993, 51.99652173913043, 'gini = 0.0\\nsamples = 1\\nvalue = [1, 0]'),\n",
              " Text(44.0690532810592, 61.45043478260868, 'gini = 0.0\\nsamples = 11\\nvalue = [11, 0]'),\n",
              " Text(35.8061057908606, 99.26608695652173, 'gini = 0.0\\nsamples = 40\\nvalue = [40, 0]'),\n",
              " Text(46.823369111125395, 118.17391304347825, 'X[0] <= 12100.0\\ngini = 0.463\\nsamples = 22\\nvalue = [14, 8]'),\n",
              " Text(44.0690532810592, 108.72, 'X[2] <= 80000.0\\ngini = 0.219\\nsamples = 16\\nvalue = [14, 2]'),\n",
              " Text(41.314737450993, 99.26608695652173, 'X[9] <= 30.076\\ngini = 0.124\\nsamples = 15\\nvalue = [14, 1]'),\n",
              " Text(38.560421620926796, 89.81217391304348, 'gini = 0.0\\nsamples = 1\\nvalue = [0, 1]'),\n",
              " Text(44.0690532810592, 89.81217391304348, 'gini = 0.0\\nsamples = 14\\nvalue = [14, 0]'),\n",
              " Text(46.823369111125395, 99.26608695652173, 'gini = 0.0\\nsamples = 1\\nvalue = [0, 1]'),\n",
              " Text(49.5776849411916, 108.72, 'gini = 0.0\\nsamples = 6\\nvalue = [0, 6]'),\n",
              " Text(55.086316601324, 127.62782608695652, 'X[9] <= 23.217\\ngini = 0.32\\nsamples = 5\\nvalue = [1, 4]'),\n",
              " Text(52.332000771257796, 118.17391304347825, 'gini = 0.0\\nsamples = 1\\nvalue = [1, 0]'),\n",
              " Text(57.8406324313902, 118.17391304347825, 'gini = 0.0\\nsamples = 4\\nvalue = [0, 4]'),\n",
              " Text(63.3492640915226, 137.08173913043478, 'X[3] <= 2.0\\ngini = 0.375\\nsamples = 8\\nvalue = [2, 6]'),\n",
              " Text(60.594948261456395, 127.62782608695652, 'gini = 0.0\\nsamples = 2\\nvalue = [2, 0]'),\n",
              " Text(66.10357992158879, 127.62782608695652, 'gini = 0.0\\nsamples = 6\\nvalue = [0, 6]'),\n",
              " Text(82.629474901986, 155.98956521739132, 'X[6] <= 64.167\\ngini = 0.164\\nsamples = 89\\nvalue = [81, 8]'),\n",
              " Text(77.12084324185359, 146.53565217391304, 'X[0] <= 24050.0\\ngini = 0.444\\nsamples = 15\\nvalue = [10, 5]'),\n",
              " Text(74.3665274117874, 137.08173913043478, 'X[2] <= 67673.5\\ngini = 0.408\\nsamples = 7\\nvalue = [2, 5]'),\n",
              " Text(71.6122115817212, 127.62782608695652, 'X[9] <= 37.817\\ngini = 0.444\\nsamples = 3\\nvalue = [2, 1]'),\n",
              " Text(68.857895751655, 118.17391304347825, 'gini = 0.0\\nsamples = 2\\nvalue = [2, 0]'),\n",
              " Text(74.3665274117874, 118.17391304347825, 'gini = 0.0\\nsamples = 1\\nvalue = [0, 1]'),\n",
              " Text(77.12084324185359, 127.62782608695652, 'gini = 0.0\\nsamples = 4\\nvalue = [0, 4]'),\n",
              " Text(79.8751590719198, 137.08173913043478, 'gini = 0.0\\nsamples = 8\\nvalue = [8, 0]'),\n",
              " Text(88.1381065621184, 146.53565217391304, 'X[0] <= 25800.0\\ngini = 0.078\\nsamples = 74\\nvalue = [71, 3]'),\n",
              " Text(85.38379073205219, 137.08173913043478, 'gini = 0.0\\nsamples = 47\\nvalue = [47, 0]'),\n",
              " Text(90.8924223921846, 137.08173913043478, 'X[0] <= 26500.0\\ngini = 0.198\\nsamples = 27\\nvalue = [24, 3]'),\n",
              " Text(88.1381065621184, 127.62782608695652, 'gini = 0.0\\nsamples = 2\\nvalue = [0, 2]'),\n",
              " Text(93.64673822225079, 127.62782608695652, 'X[2] <= 80511.5\\ngini = 0.077\\nsamples = 25\\nvalue = [24, 1]'),\n",
              " Text(90.8924223921846, 118.17391304347825, 'gini = 0.0\\nsamples = 23\\nvalue = [23, 0]'),\n",
              " Text(96.401054052317, 118.17391304347825, 'X[6] <= 142.026\\ngini = 0.5\\nsamples = 2\\nvalue = [1, 1]'),\n",
              " Text(93.64673822225079, 108.72, 'gini = 0.0\\nsamples = 1\\nvalue = [0, 1]'),\n",
              " Text(99.1553698823832, 108.72, 'gini = 0.0\\nsamples = 1\\nvalue = [1, 0]'),\n",
              " Text(133.15395590976286, 165.44347826086957, 'X[6] <= 62.536\\ngini = 0.164\\nsamples = 355\\nvalue = [323, 32]'),\n",
              " Text(126.26816633459735, 155.98956521739132, 'X[8] <= 32.5\\ngini = 0.278\\nsamples = 6\\nvalue = [1, 5]'),\n",
              " Text(123.51385050453115, 146.53565217391304, 'gini = 0.0\\nsamples = 5\\nvalue = [0, 5]'),\n",
              " Text(129.02248216466356, 146.53565217391304, 'gini = 0.0\\nsamples = 1\\nvalue = [1, 0]'),\n",
              " Text(140.03974548492835, 155.98956521739132, 'X[1] <= 197091.0\\ngini = 0.143\\nsamples = 349\\nvalue = [322, 27]'),\n",
              " Text(134.53111382479594, 146.53565217391304, 'X[8] <= 36.5\\ngini = 0.129\\nsamples = 345\\nvalue = [321, 24]'),\n",
              " Text(131.77679799472975, 137.08173913043478, 'X[0] <= 7650.0\\ngini = 0.12\\nsamples = 343\\nvalue = [321, 22]'),\n",
              " Text(110.172633202648, 127.62782608695652, 'X[9] <= 40.264\\ngini = 0.426\\nsamples = 13\\nvalue = [9, 4]'),\n",
              " Text(107.4183173725818, 118.17391304347825, 'X[1] <= 64312.0\\ngini = 0.298\\nsamples = 11\\nvalue = [9, 2]'),\n",
              " Text(104.66400154251559, 108.72, 'gini = 0.0\\nsamples = 1\\nvalue = [0, 1]'),\n",
              " Text(110.172633202648, 108.72, 'X[6] <= 172.026\\ngini = 0.18\\nsamples = 10\\nvalue = [9, 1]'),\n",
              " Text(107.4183173725818, 99.26608695652173, 'gini = 0.0\\nsamples = 9\\nvalue = [9, 0]'),\n",
              " Text(112.92694903271419, 99.26608695652173, 'gini = 0.0\\nsamples = 1\\nvalue = [0, 1]'),\n",
              " Text(112.92694903271419, 118.17391304347825, 'gini = 0.0\\nsamples = 2\\nvalue = [0, 2]'),\n",
              " Text(153.3809627868115, 127.62782608695652, 'X[1] <= 116215.0\\ngini = 0.103\\nsamples = 330\\nvalue = [312, 18]'),\n",
              " Text(140.1258178546179, 118.17391304347825, 'X[9] <= 42.24\\ngini = 0.073\\nsamples = 291\\nvalue = [280, 11]'),\n",
              " Text(130.14142297062793, 108.72, 'X[4] <= 0.5\\ngini = 0.061\\nsamples = 286\\nvalue = [277, 9]'),\n",
              " Text(118.4355806928466, 99.26608695652173, 'X[9] <= 19.78\\ngini = 0.043\\nsamples = 272\\nvalue = [266, 6]'),\n",
              " Text(111.5497911176811, 89.81217391304348, 'X[2] <= 96631.0\\ngini = 0.5\\nsamples = 2\\nvalue = [1, 1]'),\n",
              " Text(108.79547528761489, 80.35826086956521, 'gini = 0.0\\nsamples = 1\\nvalue = [1, 0]'),\n",
              " Text(114.3041069477473, 80.35826086956521, 'gini = 0.0\\nsamples = 1\\nvalue = [0, 1]'),\n",
              " Text(125.32137026801209, 89.81217391304348, 'X[8] <= 35.5\\ngini = 0.036\\nsamples = 270\\nvalue = [265, 5]'),\n",
              " Text(119.8127386078797, 80.35826086956521, 'X[9] <= 36.037\\ngini = 0.03\\nsamples = 267\\nvalue = [263, 4]'),\n",
              " Text(117.05842277781349, 70.90434782608696, 'gini = 0.0\\nsamples = 167\\nvalue = [167, 0]'),\n",
              " Text(122.5670544379459, 70.90434782608696, 'X[9] <= 36.054\\ngini = 0.077\\nsamples = 100\\nvalue = [96, 4]'),\n",
              " Text(119.8127386078797, 61.45043478260868, 'gini = 0.0\\nsamples = 1\\nvalue = [0, 1]'),\n",
              " Text(125.32137026801209, 61.45043478260868, 'X[3] <= 17.5\\ngini = 0.059\\nsamples = 99\\nvalue = [96, 3]'),\n",
              " Text(119.8127386078797, 51.99652173913043, 'X[3] <= 3.5\\ngini = 0.042\\nsamples = 94\\nvalue = [92, 2]'),\n",
              " Text(117.05842277781349, 42.54260869565218, 'X[3] <= 2.5\\ngini = 0.124\\nsamples = 30\\nvalue = [28, 2]'),\n",
              " Text(114.3041069477473, 33.0886956521739, 'gini = 0.0\\nsamples = 19\\nvalue = [19, 0]'),\n",
              " Text(119.8127386078797, 33.0886956521739, 'X[1] <= 92975.5\\ngini = 0.298\\nsamples = 11\\nvalue = [9, 2]'),\n",
              " Text(117.05842277781349, 23.634782608695645, 'X[6] <= 88.205\\ngini = 0.18\\nsamples = 10\\nvalue = [9, 1]'),\n",
              " Text(114.3041069477473, 14.180869565217392, 'X[7] <= 1.0\\ngini = 0.444\\nsamples = 3\\nvalue = [2, 1]'),\n",
              " Text(111.5497911176811, 4.726956521739112, 'gini = 0.0\\nsamples = 1\\nvalue = [0, 1]'),\n",
              " Text(117.05842277781349, 4.726956521739112, 'gini = 0.0\\nsamples = 2\\nvalue = [2, 0]'),\n",
              " Text(119.8127386078797, 14.180869565217392, 'gini = 0.0\\nsamples = 7\\nvalue = [7, 0]'),\n",
              " Text(122.5670544379459, 23.634782608695645, 'gini = 0.0\\nsamples = 1\\nvalue = [0, 1]'),\n",
              " Text(122.5670544379459, 42.54260869565218, 'gini = 0.0\\nsamples = 64\\nvalue = [64, 0]'),\n",
              " Text(130.8300019281445, 51.99652173913043, 'X[6] <= 163.116\\ngini = 0.32\\nsamples = 5\\nvalue = [4, 1]'),\n",
              " Text(128.07568609807828, 42.54260869565218, 'gini = 0.0\\nsamples = 4\\nvalue = [4, 0]'),\n",
              " Text(133.5843177582107, 42.54260869565218, 'gini = 0.0\\nsamples = 1\\nvalue = [0, 1]'),\n",
              " Text(130.8300019281445, 80.35826086956521, 'X[3] <= 9.5\\ngini = 0.444\\nsamples = 3\\nvalue = [2, 1]'),\n",
              " Text(128.07568609807828, 70.90434782608696, 'gini = 0.0\\nsamples = 1\\nvalue = [0, 1]'),\n",
              " Text(133.5843177582107, 70.90434782608696, 'gini = 0.0\\nsamples = 2\\nvalue = [2, 0]'),\n",
              " Text(141.8472652484093, 99.26608695652173, 'X[8] <= 23.0\\ngini = 0.337\\nsamples = 14\\nvalue = [11, 3]'),\n",
              " Text(139.0929494183431, 89.81217391304348, 'X[3] <= 2.5\\ngini = 0.48\\nsamples = 5\\nvalue = [2, 3]'),\n",
              " Text(136.3386335882769, 80.35826086956521, 'gini = 0.0\\nsamples = 2\\nvalue = [2, 0]'),\n",
              " Text(141.8472652484093, 80.35826086956521, 'gini = 0.0\\nsamples = 3\\nvalue = [0, 3]'),\n",
              " Text(144.6015810784755, 89.81217391304348, 'gini = 0.0\\nsamples = 9\\nvalue = [9, 0]'),\n",
              " Text(150.11021273860788, 108.72, 'X[2] <= 116081.5\\ngini = 0.48\\nsamples = 5\\nvalue = [3, 2]'),\n",
              " Text(147.3558969085417, 99.26608695652173, 'gini = 0.0\\nsamples = 2\\nvalue = [0, 2]'),\n",
              " Text(152.8645285686741, 99.26608695652173, 'gini = 0.0\\nsamples = 3\\nvalue = [3, 0]'),\n",
              " Text(166.63610771900508, 118.17391304347825, 'X[2] <= 166063.0\\ngini = 0.295\\nsamples = 39\\nvalue = [32, 7]'),\n",
              " Text(161.1274760588727, 108.72, 'X[9] <= 34.647\\ngini = 0.5\\nsamples = 12\\nvalue = [6, 6]'),\n",
              " Text(158.37316022880648, 99.26608695652173, 'X[8] <= 17.0\\ngini = 0.375\\nsamples = 8\\nvalue = [6, 2]'),\n",
              " Text(155.6188443987403, 89.81217391304348, 'gini = 0.0\\nsamples = 2\\nvalue = [0, 2]'),\n",
              " Text(161.1274760588727, 89.81217391304348, 'gini = 0.0\\nsamples = 6\\nvalue = [6, 0]'),\n",
              " Text(163.8817918889389, 99.26608695652173, 'gini = 0.0\\nsamples = 4\\nvalue = [0, 4]'),\n",
              " Text(172.1447393791375, 108.72, 'X[7] <= 4.0\\ngini = 0.071\\nsamples = 27\\nvalue = [26, 1]'),\n",
              " Text(169.3904235490713, 99.26608695652173, 'gini = 0.0\\nsamples = 26\\nvalue = [26, 0]'),\n",
              " Text(174.89905520920368, 99.26608695652173, 'gini = 0.0\\nsamples = 1\\nvalue = [0, 1]'),\n",
              " Text(137.28542965486216, 137.08173913043478, 'gini = 0.0\\nsamples = 2\\nvalue = [0, 2]'),\n",
              " Text(145.54837714506075, 146.53565217391304, 'X[6] <= 135.13\\ngini = 0.375\\nsamples = 4\\nvalue = [1, 3]'),\n",
              " Text(142.79406131499454, 137.08173913043478, 'gini = 0.0\\nsamples = 1\\nvalue = [1, 0]'),\n",
              " Text(148.30269297512694, 137.08173913043478, 'gini = 0.0\\nsamples = 3\\nvalue = [0, 3]'),\n",
              " Text(232.89031428755064, 174.89739130434782, 'X[9] <= 12.867\\ngini = 0.087\\nsamples = 662\\nvalue = [632, 30]'),\n",
              " Text(230.13599845748442, 165.44347826086957, 'gini = 0.0\\nsamples = 2\\nvalue = [0, 2]'),\n",
              " Text(235.64463011761683, 165.44347826086957, 'X[1] <= 382608.0\\ngini = 0.081\\nsamples = 660\\nvalue = [632, 28]'),\n",
              " Text(232.89031428755064, 155.98956521739132, 'X[6] <= 898.665\\ngini = 0.079\\nsamples = 659\\nvalue = [632, 27]'),\n",
              " Text(230.13599845748442, 146.53565217391304, 'X[5] <= 0.5\\ngini = 0.076\\nsamples = 658\\nvalue = [632, 26]'),\n",
              " Text(198.2677035799216, 137.08173913043478, 'X[2] <= 47415.0\\ngini = 0.059\\nsamples = 587\\nvalue = [569, 18]'),\n",
              " Text(177.6533710392699, 127.62782608695652, 'X[1] <= 30098.5\\ngini = 0.278\\nsamples = 18\\nvalue = [15, 3]'),\n",
              " Text(174.89905520920368, 118.17391304347825, 'gini = 0.0\\nsamples = 14\\nvalue = [14, 0]'),\n",
              " Text(180.4076868693361, 118.17391304347825, 'X[9] <= 27.195\\ngini = 0.375\\nsamples = 4\\nvalue = [1, 3]'),\n",
              " Text(177.6533710392699, 108.72, 'gini = 0.0\\nsamples = 1\\nvalue = [1, 0]'),\n",
              " Text(183.16200269940228, 108.72, 'gini = 0.0\\nsamples = 3\\nvalue = [0, 3]'),\n",
              " Text(218.88203612057333, 127.62782608695652, 'X[8] <= 39.0\\ngini = 0.051\\nsamples = 569\\nvalue = [554, 15]'),\n",
              " Text(203.30293720676138, 118.17391304347825, 'X[1] <= 159932.5\\ngini = 0.04\\nsamples = 533\\nvalue = [522, 11]'),\n",
              " Text(188.6706343595347, 108.72, 'X[0] <= 18550.0\\ngini = 0.027\\nsamples = 503\\nvalue = [496, 7]'),\n",
              " Text(180.75197634809436, 99.26608695652173, 'X[0] <= 6800.0\\ngini = 0.007\\nsamples = 273\\nvalue = [272, 1]'),\n",
              " Text(177.99766051802817, 89.81217391304348, 'X[3] <= 5.5\\ngini = 0.153\\nsamples = 12\\nvalue = [11, 1]'),\n",
              " Text(175.24334468796195, 80.35826086956521, 'X[3] <= 3.5\\ngini = 0.5\\nsamples = 2\\nvalue = [1, 1]'),\n",
              " Text(172.48902885789576, 70.90434782608696, 'gini = 0.0\\nsamples = 1\\nvalue = [1, 0]'),\n",
              " Text(177.99766051802817, 70.90434782608696, 'gini = 0.0\\nsamples = 1\\nvalue = [0, 1]'),\n",
              " Text(180.75197634809436, 80.35826086956521, 'gini = 0.0\\nsamples = 10\\nvalue = [10, 0]'),\n",
              " Text(183.50629217816058, 89.81217391304348, 'gini = 0.0\\nsamples = 261\\nvalue = [261, 0]'),\n",
              " Text(196.58929237097502, 99.26608695652173, 'X[2] <= 63249.0\\ngini = 0.051\\nsamples = 230\\nvalue = [224, 6]'),\n",
              " Text(189.01492383829296, 89.81217391304348, 'X[8] <= 22.5\\ngini = 0.346\\nsamples = 9\\nvalue = [7, 2]'),\n",
              " Text(186.26060800822677, 80.35826086956521, 'X[6] <= 198.039\\ngini = 0.444\\nsamples = 3\\nvalue = [1, 2]'),\n",
              " Text(183.50629217816058, 70.90434782608696, 'gini = 0.0\\nsamples = 1\\nvalue = [1, 0]'),\n",
              " Text(189.01492383829296, 70.90434782608696, 'gini = 0.0\\nsamples = 2\\nvalue = [0, 2]'),\n",
              " Text(191.76923966835918, 80.35826086956521, 'gini = 0.0\\nsamples = 6\\nvalue = [6, 0]'),\n",
              " Text(204.16366090365707, 89.81217391304348, 'X[0] <= 18650.0\\ngini = 0.036\\nsamples = 221\\nvalue = [217, 4]'),\n",
              " Text(197.27787132849156, 80.35826086956521, 'X[6] <= 201.045\\ngini = 0.444\\nsamples = 3\\nvalue = [2, 1]'),\n",
              " Text(194.52355549842537, 70.90434782608696, 'gini = 0.0\\nsamples = 1\\nvalue = [0, 1]'),\n",
              " Text(200.03218715855778, 70.90434782608696, 'gini = 0.0\\nsamples = 2\\nvalue = [2, 0]'),\n",
              " Text(211.04945047882256, 80.35826086956521, 'X[8] <= 34.5\\ngini = 0.027\\nsamples = 218\\nvalue = [215, 3]'),\n",
              " Text(205.54081881869016, 70.90434782608696, 'X[8] <= 14.5\\ngini = 0.01\\nsamples = 200\\nvalue = [199, 1]'),\n",
              " Text(202.78650298862397, 61.45043478260868, 'X[8] <= 13.5\\ngini = 0.105\\nsamples = 18\\nvalue = [17, 1]'),\n",
              " Text(200.03218715855778, 51.99652173913043, 'gini = 0.0\\nsamples = 17\\nvalue = [17, 0]'),\n",
              " Text(205.54081881869016, 51.99652173913043, 'gini = 0.0\\nsamples = 1\\nvalue = [0, 1]'),\n",
              " Text(208.29513464875637, 61.45043478260868, 'gini = 0.0\\nsamples = 182\\nvalue = [182, 0]'),\n",
              " Text(216.55808213895497, 70.90434782608696, 'X[6] <= 252.413\\ngini = 0.198\\nsamples = 18\\nvalue = [16, 2]'),\n",
              " Text(213.80376630888875, 61.45043478260868, 'gini = 0.0\\nsamples = 14\\nvalue = [14, 0]'),\n",
              " Text(219.31239796902116, 61.45043478260868, 'X[9] <= 37.102\\ngini = 0.5\\nsamples = 4\\nvalue = [2, 2]'),\n",
              " Text(216.55808213895497, 51.99652173913043, 'gini = 0.0\\nsamples = 2\\nvalue = [0, 2]'),\n",
              " Text(222.06671379908735, 51.99652173913043, 'gini = 0.0\\nsamples = 2\\nvalue = [2, 0]'),\n",
              " Text(217.93524005398805, 108.72, 'X[2] <= 227322.5\\ngini = 0.231\\nsamples = 30\\nvalue = [26, 4]'),\n",
              " Text(212.42660839385567, 99.26608695652173, 'X[9] <= 28.323\\ngini = 0.5\\nsamples = 6\\nvalue = [3, 3]'),\n",
              " Text(209.67229256378945, 89.81217391304348, 'gini = 0.0\\nsamples = 3\\nvalue = [3, 0]'),\n",
              " Text(215.18092422392186, 89.81217391304348, 'gini = 0.0\\nsamples = 3\\nvalue = [0, 3]'),\n",
              " Text(223.44387171412046, 99.26608695652173, 'X[9] <= 43.023\\ngini = 0.08\\nsamples = 24\\nvalue = [23, 1]'),\n",
              " Text(220.68955588405427, 89.81217391304348, 'gini = 0.0\\nsamples = 23\\nvalue = [23, 0]'),\n",
              " Text(226.19818754418665, 89.81217391304348, 'gini = 0.0\\nsamples = 1\\nvalue = [0, 1]'),\n",
              " Text(234.46113503438525, 118.17391304347825, 'X[3] <= 25.5\\ngini = 0.198\\nsamples = 36\\nvalue = [32, 4]'),\n",
              " Text(231.70681920431906, 108.72, 'X[9] <= 25.441\\ngini = 0.157\\nsamples = 35\\nvalue = [32, 3]'),\n",
              " Text(228.95250337425287, 99.26608695652173, 'gini = 0.0\\nsamples = 1\\nvalue = [0, 1]'),\n",
              " Text(234.46113503438525, 99.26608695652173, 'X[0] <= 26900.0\\ngini = 0.111\\nsamples = 34\\nvalue = [32, 2]'),\n",
              " Text(231.70681920431906, 89.81217391304348, 'gini = 0.0\\nsamples = 30\\nvalue = [30, 0]'),\n",
              " Text(237.21545086445147, 89.81217391304348, 'X[2] <= 141590.0\\ngini = 0.5\\nsamples = 4\\nvalue = [2, 2]'),\n",
              " Text(234.46113503438525, 80.35826086956521, 'gini = 0.0\\nsamples = 2\\nvalue = [0, 2]'),\n",
              " Text(239.96976669451766, 80.35826086956521, 'gini = 0.0\\nsamples = 2\\nvalue = [2, 0]'),\n",
              " Text(237.21545086445147, 108.72, 'gini = 0.0\\nsamples = 1\\nvalue = [0, 1]'),\n",
              " Text(262.00429333504724, 137.08173913043478, 'X[9] <= 43.153\\ngini = 0.2\\nsamples = 71\\nvalue = [63, 8]'),\n",
              " Text(259.2499775049811, 127.62782608695652, 'X[4] <= 0.5\\ngini = 0.18\\nsamples = 70\\nvalue = [63, 7]'),\n",
              " Text(253.74134584484867, 118.17391304347825, 'X[9] <= 35.745\\ngini = 0.144\\nsamples = 64\\nvalue = [59, 5]'),\n",
              " Text(250.98703001478245, 108.72, 'X[9] <= 34.596\\ngini = 0.251\\nsamples = 34\\nvalue = [29, 5]'),\n",
              " Text(248.23271418471626, 99.26608695652173, 'X[2] <= 45633.5\\ngini = 0.17\\nsamples = 32\\nvalue = [29, 3]'),\n",
              " Text(245.47839835465007, 89.81217391304348, 'gini = 0.0\\nsamples = 1\\nvalue = [0, 1]'),\n",
              " Text(250.98703001478245, 89.81217391304348, 'X[8] <= 31.5\\ngini = 0.121\\nsamples = 31\\nvalue = [29, 2]'),\n",
              " Text(245.47839835465007, 80.35826086956521, 'X[9] <= 22.709\\ngini = 0.071\\nsamples = 27\\nvalue = [26, 1]'),\n",
              " Text(242.72408252458385, 70.90434782608696, 'X[6] <= 207.68\\ngini = 0.375\\nsamples = 4\\nvalue = [3, 1]'),\n",
              " Text(239.96976669451766, 61.45043478260868, 'gini = 0.0\\nsamples = 1\\nvalue = [0, 1]'),\n",
              " Text(245.47839835465007, 61.45043478260868, 'gini = 0.0\\nsamples = 3\\nvalue = [3, 0]'),\n",
              " Text(248.23271418471626, 70.90434782608696, 'gini = 0.0\\nsamples = 23\\nvalue = [23, 0]'),\n",
              " Text(256.49566167491486, 80.35826086956521, 'X[1] <= 79692.5\\ngini = 0.375\\nsamples = 4\\nvalue = [3, 1]'),\n",
              " Text(253.74134584484867, 70.90434782608696, 'gini = 0.0\\nsamples = 1\\nvalue = [0, 1]'),\n",
              " Text(259.2499775049811, 70.90434782608696, 'gini = 0.0\\nsamples = 3\\nvalue = [3, 0]'),\n",
              " Text(253.74134584484867, 99.26608695652173, 'gini = 0.0\\nsamples = 2\\nvalue = [0, 2]'),\n",
              " Text(256.49566167491486, 108.72, 'gini = 0.0\\nsamples = 30\\nvalue = [30, 0]'),\n",
              " Text(264.75860916511346, 118.17391304347825, 'X[7] <= 1.0\\ngini = 0.444\\nsamples = 6\\nvalue = [4, 2]'),\n",
              " Text(262.00429333504724, 108.72, 'gini = 0.0\\nsamples = 4\\nvalue = [4, 0]'),\n",
              " Text(267.5129249951797, 108.72, 'gini = 0.0\\nsamples = 2\\nvalue = [0, 2]'),\n",
              " Text(264.75860916511346, 127.62782608695652, 'gini = 0.0\\nsamples = 1\\nvalue = [0, 1]'),\n",
              " Text(235.64463011761683, 146.53565217391304, 'gini = 0.0\\nsamples = 1\\nvalue = [0, 1]'),\n",
              " Text(238.39894594768302, 155.98956521739132, 'gini = 0.0\\nsamples = 1\\nvalue = [0, 1]'),\n",
              " Text(261.8106305032457, 184.3513043478261, 'X[6] <= 179.345\\ngini = 0.5\\nsamples = 39\\nvalue = [19, 20]'),\n",
              " Text(252.17052509801402, 174.89739130434782, 'X[0] <= 16950.0\\ngini = 0.426\\nsamples = 26\\nvalue = [8, 18]'),\n",
              " Text(246.66189343788164, 165.44347826086957, 'X[1] <= 61826.0\\ngini = 0.486\\nsamples = 12\\nvalue = [7, 5]'),\n",
              " Text(243.90757760781543, 155.98956521739132, 'gini = 0.0\\nsamples = 5\\nvalue = [0, 5]'),\n",
              " Text(249.41620926794783, 155.98956521739132, 'gini = 0.0\\nsamples = 7\\nvalue = [7, 0]'),\n",
              " Text(257.6791567581464, 165.44347826086957, 'X[1] <= 103516.0\\ngini = 0.133\\nsamples = 14\\nvalue = [1, 13]'),\n",
              " Text(254.92484092808024, 155.98956521739132, 'gini = 0.0\\nsamples = 12\\nvalue = [0, 12]'),\n",
              " Text(260.4334725882126, 155.98956521739132, 'X[6] <= 167.43\\ngini = 0.5\\nsamples = 2\\nvalue = [1, 1]'),\n",
              " Text(257.6791567581464, 146.53565217391304, 'gini = 0.0\\nsamples = 1\\nvalue = [0, 1]'),\n",
              " Text(263.18778841827884, 146.53565217391304, 'gini = 0.0\\nsamples = 1\\nvalue = [1, 0]'),\n",
              " Text(271.45073590847744, 174.89739130434782, 'X[6] <= 349.751\\ngini = 0.26\\nsamples = 13\\nvalue = [11, 2]'),\n",
              " Text(268.6964200784112, 165.44347826086957, 'X[3] <= 1.5\\ngini = 0.153\\nsamples = 12\\nvalue = [11, 1]'),\n",
              " Text(265.942104248345, 155.98956521739132, 'gini = 0.0\\nsamples = 1\\nvalue = [0, 1]'),\n",
              " Text(271.45073590847744, 155.98956521739132, 'gini = 0.0\\nsamples = 11\\nvalue = [11, 0]'),\n",
              " Text(274.2050517385436, 165.44347826086957, 'gini = 0.0\\nsamples = 1\\nvalue = [0, 1]'),\n",
              " Text(296.9281573365898, 193.80521739130435, 'X[5] <= 3.5\\ngini = 0.498\\nsamples = 96\\nvalue = [51, 45]'),\n",
              " Text(289.3537888039077, 184.3513043478261, 'X[2] <= 152376.0\\ngini = 0.463\\nsamples = 77\\nvalue = [49, 28]'),\n",
              " Text(286.59947297384156, 174.89739130434782, 'X[6] <= 153.816\\ngini = 0.435\\nsamples = 72\\nvalue = [49, 23]'),\n",
              " Text(279.71368339867604, 165.44347826086957, 'X[3] <= 4.5\\ngini = 0.499\\nsamples = 25\\nvalue = [12, 13]'),\n",
              " Text(276.9593675686098, 155.98956521739132, 'X[2] <= 126349.5\\ngini = 0.32\\nsamples = 15\\nvalue = [12, 3]'),\n",
              " Text(274.2050517385436, 146.53565217391304, 'X[6] <= 29.293\\ngini = 0.142\\nsamples = 13\\nvalue = [12, 1]'),\n",
              " Text(271.45073590847744, 137.08173913043478, 'gini = 0.0\\nsamples = 1\\nvalue = [0, 1]'),\n",
              " Text(276.9593675686098, 137.08173913043478, 'gini = 0.0\\nsamples = 12\\nvalue = [12, 0]'),\n",
              " Text(279.71368339867604, 146.53565217391304, 'gini = 0.0\\nsamples = 2\\nvalue = [0, 2]'),\n",
              " Text(282.4679992287422, 155.98956521739132, 'gini = 0.0\\nsamples = 10\\nvalue = [0, 10]'),\n",
              " Text(293.485262549007, 165.44347826086957, 'X[3] <= 8.0\\ngini = 0.335\\nsamples = 47\\nvalue = [37, 10]'),\n",
              " Text(287.97663088887464, 155.98956521739132, 'X[6] <= 206.87\\ngini = 0.488\\nsamples = 19\\nvalue = [11, 8]'),\n",
              " Text(285.2223150588084, 146.53565217391304, 'X[1] <= 40302.0\\ngini = 0.391\\nsamples = 15\\nvalue = [11, 4]'),\n",
              " Text(282.4679992287422, 137.08173913043478, 'gini = 0.0\\nsamples = 2\\nvalue = [0, 2]'),\n",
              " Text(287.97663088887464, 137.08173913043478, 'X[3] <= 6.5\\ngini = 0.26\\nsamples = 13\\nvalue = [11, 2]'),\n",
              " Text(285.2223150588084, 127.62782608695652, 'gini = 0.0\\nsamples = 10\\nvalue = [10, 0]'),\n",
              " Text(290.73094671894086, 127.62782608695652, 'X[2] <= 68546.0\\ngini = 0.444\\nsamples = 3\\nvalue = [1, 2]'),\n",
              " Text(287.97663088887464, 118.17391304347825, 'gini = 0.0\\nsamples = 1\\nvalue = [1, 0]'),\n",
              " Text(293.485262549007, 118.17391304347825, 'gini = 0.0\\nsamples = 2\\nvalue = [0, 2]'),\n",
              " Text(290.73094671894086, 146.53565217391304, 'gini = 0.0\\nsamples = 4\\nvalue = [0, 4]'),\n",
              " Text(298.99389420913946, 155.98956521739132, 'X[9] <= 12.927\\ngini = 0.133\\nsamples = 28\\nvalue = [26, 2]'),\n",
              " Text(296.23957837907324, 146.53565217391304, 'gini = 0.0\\nsamples = 1\\nvalue = [0, 1]'),\n",
              " Text(301.7482100392056, 146.53565217391304, 'X[7] <= 1.5\\ngini = 0.071\\nsamples = 27\\nvalue = [26, 1]'),\n",
              " Text(298.99389420913946, 137.08173913043478, 'gini = 0.0\\nsamples = 24\\nvalue = [24, 0]'),\n",
              " Text(304.50252586927184, 137.08173913043478, 'X[3] <= 22.0\\ngini = 0.444\\nsamples = 3\\nvalue = [2, 1]'),\n",
              " Text(301.7482100392056, 127.62782608695652, 'gini = 0.0\\nsamples = 2\\nvalue = [2, 0]'),\n",
              " Text(307.25684169933805, 127.62782608695652, 'gini = 0.0\\nsamples = 1\\nvalue = [0, 1]'),\n",
              " Text(292.10810463397394, 174.89739130434782, 'gini = 0.0\\nsamples = 5\\nvalue = [0, 5]'),\n",
              " Text(304.50252586927184, 184.3513043478261, 'X[2] <= 66953.5\\ngini = 0.188\\nsamples = 19\\nvalue = [2, 17]'),\n",
              " Text(301.7482100392056, 174.89739130434782, 'X[5] <= 5.0\\ngini = 0.444\\nsamples = 3\\nvalue = [2, 1]'),\n",
              " Text(298.99389420913946, 165.44347826086957, 'gini = 0.0\\nsamples = 2\\nvalue = [2, 0]'),\n",
              " Text(304.50252586927184, 165.44347826086957, 'gini = 0.0\\nsamples = 1\\nvalue = [0, 1]'),\n",
              " Text(307.25684169933805, 174.89739130434782, 'gini = 0.0\\nsamples = 16\\nvalue = [0, 16]'),\n",
              " Text(323.78273667973525, 203.2591304347826, 'X[6] <= 299.897\\ngini = 0.171\\nsamples = 74\\nvalue = [7, 67]'),\n",
              " Text(318.2741050196028, 193.80521739130435, 'X[9] <= 44.155\\ngini = 0.108\\nsamples = 70\\nvalue = [4, 66]'),\n",
              " Text(315.51978918953665, 184.3513043478261, 'X[8] <= 19.5\\ngini = 0.48\\nsamples = 10\\nvalue = [4, 6]'),\n",
              " Text(312.76547335947043, 174.89739130434782, 'gini = 0.0\\nsamples = 3\\nvalue = [3, 0]'),\n",
              " Text(318.2741050196028, 174.89739130434782, 'X[3] <= 10.5\\ngini = 0.245\\nsamples = 7\\nvalue = [1, 6]'),\n",
              " Text(315.51978918953665, 165.44347826086957, 'gini = 0.0\\nsamples = 5\\nvalue = [0, 5]'),\n",
              " Text(321.02842084966903, 165.44347826086957, 'X[0] <= 31850.0\\ngini = 0.5\\nsamples = 2\\nvalue = [1, 1]'),\n",
              " Text(318.2741050196028, 155.98956521739132, 'gini = 0.0\\nsamples = 1\\nvalue = [1, 0]'),\n",
              " Text(323.78273667973525, 155.98956521739132, 'gini = 0.0\\nsamples = 1\\nvalue = [0, 1]'),\n",
              " Text(321.02842084966903, 184.3513043478261, 'gini = 0.0\\nsamples = 60\\nvalue = [0, 60]'),\n",
              " Text(329.29136833986763, 193.80521739130435, 'X[8] <= 22.5\\ngini = 0.375\\nsamples = 4\\nvalue = [3, 1]'),\n",
              " Text(326.5370525098014, 184.3513043478261, 'gini = 0.0\\nsamples = 3\\nvalue = [3, 0]'),\n",
              " Text(332.04568416993385, 184.3513043478261, 'gini = 0.0\\nsamples = 1\\nvalue = [0, 1]')]"
            ]
          },
          "metadata": {},
          "execution_count": 71
        },
        {
          "output_type": "display_data",
          "data": {
            "image/png": "[encoded data removed]",
            "text/plain": [
              "<Figure size 432x288 with 1 Axes>"
            ]
          },
          "metadata": {
            "needs_background": "light"
          }
        }
      ]
    },
    {
      "cell_type": "markdown",
      "metadata": {
        "id": "Y3ORqEhm_XDa"
      },
      "source": [
        "### Ejercicio 3.2: Ajuste de Hiperparámetros\n",
        "\n",
        "Seleccionar valores para los hiperparámetros principales del DecisionTreeClassifier. Como mínimo, probar diferentes criterios de partición (criterion), profundidad máxima del árbol (max_depth), y cantidad mínima de samples por hoja (min_samples_leaf).\n",
        "\n",
        "Para ello, usar grid-search y 5-fold cross-validation sobre el conjunto de entrenamiento para explorar muchas combinaciones posibles de valores.\n",
        "\n",
        "Reportar accuracy promedio y varianza para todas las configuraciones.\n",
        "\n",
        "Para la mejor configuración encontrada, evaluar sobre el conjunto de **entrenamiento** y sobre el conjunto de **evaluación**, reportando:\n",
        "- Accuracy\n",
        "- Precision\n",
        "- Recall\n",
        "- F1\n",
        "- matriz de confusión\n",
        "\n",
        "\n",
        "Documentación:\n",
        "- https://scikit-learn.org/stable/modules/grid_search.html\n",
        "- https://scikit-learn.org/stable/modules/generated/sklearn.model_selection.GridSearchCV.html"
      ]
    },
    {
      "cell_type": "code",
      "metadata": {
        "id": "SyuUJrq-EU85"
      },
      "source": [
        "DecisionTreeClassifier??"
      ],
      "execution_count": null,
      "outputs": []
    },
    {
      "cell_type": "code",
      "metadata": {
        "id": "DeKKFB8PEkFe",
        "colab": {
          "base_uri": "https://localhost:8080/",
          "height": 175
        },
        "outputId": "c3bd0763-be86-4429-a714-77343b05345a"
      },
      "source": [
        "param_grid_dtc = {'criterion': ['gini', 'entropy'],\n",
        "                  'max_depth': [1, 2, 3, 4, 5, 10],\n",
        "                  'min_samples_split':[2, 5, 10]}\n",
        "\n",
        "model_dtc = DecisionTreeClassifier(random_state=0)\n",
        "\n",
        "cv_dtc = GridSearchCV(model_dtc, param_grid_dtc, scoring='accuracy', cv=3)\n",
        "cv_dtc.fit(X_train, y_train);\n",
        "\n",
        "results_dtc = cv_dtc.cv_results_\n",
        "df_dtc = pd.DataFrame(results_dtc)\n",
        "df_dtc[df_dtc.rank_test_score<5][['mean_test_score', 'std_test_score', 'params', 'param_criterion', 'param_max_depth', 'rank_test_score']]"
      ],
      "execution_count": null,
      "outputs": [
        {
          "output_type": "execute_result",
          "data": {
            "text/html": [
              "<div>\n",
              "<style scoped>\n",
              "    .dataframe tbody tr th:only-of-type {\n",
              "        vertical-align: middle;\n",
              "    }\n",
              "\n",
              "    .dataframe tbody tr th {\n",
              "        vertical-align: top;\n",
              "    }\n",
              "\n",
              "    .dataframe thead th {\n",
              "        text-align: right;\n",
              "    }\n",
              "</style>\n",
              "<table border=\"1\" class=\"dataframe\">\n",
              "  <thead>\n",
              "    <tr style=\"text-align: right;\">\n",
              "      <th></th>\n",
              "      <th>mean_test_score</th>\n",
              "      <th>std_test_score</th>\n",
              "      <th>params</th>\n",
              "      <th>param_criterion</th>\n",
              "      <th>param_max_depth</th>\n",
              "      <th>rank_test_score</th>\n",
              "    </tr>\n",
              "  </thead>\n",
              "  <tbody>\n",
              "    <tr>\n",
              "      <th>15</th>\n",
              "      <td>0.878631</td>\n",
              "      <td>0.009105</td>\n",
              "      <td>{'criterion': 'gini', 'max_depth': 10, 'min_sa...</td>\n",
              "      <td>gini</td>\n",
              "      <td>10</td>\n",
              "      <td>1</td>\n",
              "    </tr>\n",
              "    <tr>\n",
              "      <th>27</th>\n",
              "      <td>0.875270</td>\n",
              "      <td>0.017686</td>\n",
              "      <td>{'criterion': 'entropy', 'max_depth': 4, 'min_...</td>\n",
              "      <td>entropy</td>\n",
              "      <td>4</td>\n",
              "      <td>4</td>\n",
              "    </tr>\n",
              "    <tr>\n",
              "      <th>28</th>\n",
              "      <td>0.875943</td>\n",
              "      <td>0.016743</td>\n",
              "      <td>{'criterion': 'entropy', 'max_depth': 4, 'min_...</td>\n",
              "      <td>entropy</td>\n",
              "      <td>4</td>\n",
              "      <td>2</td>\n",
              "    </tr>\n",
              "    <tr>\n",
              "      <th>29</th>\n",
              "      <td>0.875943</td>\n",
              "      <td>0.016743</td>\n",
              "      <td>{'criterion': 'entropy', 'max_depth': 4, 'min_...</td>\n",
              "      <td>entropy</td>\n",
              "      <td>4</td>\n",
              "      <td>2</td>\n",
              "    </tr>\n",
              "  </tbody>\n",
              "</table>\n",
              "</div>"
            ],
            "text/plain": [
              "    mean_test_score  std_test_score  ... param_max_depth rank_test_score\n",
              "15         0.878631        0.009105  ...              10               1\n",
              "27         0.875270        0.017686  ...               4               4\n",
              "28         0.875943        0.016743  ...               4               2\n",
              "29         0.875943        0.016743  ...               4               2\n",
              "\n",
              "[4 rows x 6 columns]"
            ]
          },
          "metadata": {},
          "execution_count": 73
        }
      ]
    },
    {
      "cell_type": "code",
      "metadata": {
        "colab": {
          "base_uri": "https://localhost:8080/"
        },
        "id": "YITLzRNKkHcV",
        "outputId": "41327c79-c647-4111-9820-b408d6e0c079"
      },
      "source": [
        "cv_dtc.best_estimator_"
      ],
      "execution_count": null,
      "outputs": [
        {
          "output_type": "execute_result",
          "data": {
            "text/plain": [
              "DecisionTreeClassifier(ccp_alpha=0.0, class_weight=None, criterion='gini',\n",
              "                       max_depth=10, max_features=None, max_leaf_nodes=None,\n",
              "                       min_impurity_decrease=0.0, min_impurity_split=None,\n",
              "                       min_samples_leaf=1, min_samples_split=2,\n",
              "                       min_weight_fraction_leaf=0.0, presort='deprecated',\n",
              "                       random_state=0, splitter='best')"
            ]
          },
          "metadata": {},
          "execution_count": 74
        }
      ]
    },
    {
      "cell_type": "code",
      "metadata": {
        "colab": {
          "base_uri": "https://localhost:8080/"
        },
        "id": "uLpEIkTBkJ7e",
        "outputId": "398fec76-358b-4715-c527-099d725dbba0"
      },
      "source": [
        "cv_dtc.best_params_"
      ],
      "execution_count": null,
      "outputs": [
        {
          "output_type": "execute_result",
          "data": {
            "text/plain": [
              "{'criterion': 'gini', 'max_depth': 10, 'min_samples_split': 2}"
            ]
          },
          "metadata": {},
          "execution_count": 75
        }
      ]
    },
    {
      "cell_type": "code",
      "metadata": {
        "colab": {
          "base_uri": "https://localhost:8080/"
        },
        "id": "Xq7-4w9GIySq",
        "outputId": "13ccca72-0b26-4501-b124-dac165721de4"
      },
      "source": [
        "#entrenamiento\n",
        "dtc_mejor_modelo = DecisionTreeClassifier(criterion= 'gini', max_depth= 10, min_samples_split= 2, random_state=0)\n",
        "dtc_mejor_modelo.fit(X_train, y_train)\n",
        "\n",
        "#evaluacion \n",
        "y_train_predict_dtc_mm= dtc_mejor_modelo.predict(X_train)\n",
        "y_test_predict_dtc_mm= dtc_mejor_modelo.predict(X_test)\n",
        "\n",
        "#evaluacion\n",
        "Reporte_test_dtc_mm= classification_report(y_test, y_test_predict_dtc_mm)\n",
        "Reporte_train_dtc_mm= classification_report(y_train, y_train_predict_dtc_mm)\n",
        "\n",
        "print(f'Entrenamiento=\\n', 'Reporte train mejor modelo=\\n', Reporte_train_dtc_mm)\n",
        "print('')\n",
        "print(f'Evaluación=\\n', 'Reporte test mejor modelo=\\n', Reporte_test_dtc_mm)\n"
      ],
      "execution_count": null,
      "outputs": [
        {
          "output_type": "stream",
          "name": "stdout",
          "text": [
            "Entrenamiento=\n",
            " Reporte train mejor modelo=\n",
            "               precision    recall  f1-score   support\n",
            "\n",
            "           0       0.95      1.00      0.97      1232\n",
            "           1       0.99      0.75      0.85       251\n",
            "\n",
            "    accuracy                           0.96      1483\n",
            "   macro avg       0.97      0.87      0.91      1483\n",
            "weighted avg       0.96      0.96      0.95      1483\n",
            "\n",
            "\n",
            "Evaluación=\n",
            " Reporte test mejor modelo=\n",
            "               precision    recall  f1-score   support\n",
            "\n",
            "           0       0.92      0.96      0.94       313\n",
            "           1       0.74      0.53      0.62        58\n",
            "\n",
            "    accuracy                           0.90       371\n",
            "   macro avg       0.83      0.75      0.78       371\n",
            "weighted avg       0.89      0.90      0.89       371\n",
            "\n"
          ]
        }
      ]
    },
    {
      "cell_type": "code",
      "metadata": {
        "colab": {
          "base_uri": "https://localhost:8080/",
          "height": 300
        },
        "id": "UcCvNgAULyhx",
        "outputId": "2a340af1-a54f-4287-cf92-6c3c4b69d43e"
      },
      "source": [
        "plot_confusion_matrix(dtc_mejor_modelo, X_test, y_test, cmap='Purples')"
      ],
      "execution_count": null,
      "outputs": [
        {
          "output_type": "execute_result",
          "data": {
            "text/plain": [
              "<sklearn.metrics._plot.confusion_matrix.ConfusionMatrixDisplay at 0x7f2867c4a4d0>"
            ]
          },
          "metadata": {},
          "execution_count": 77
        },
        {
          "output_type": "display_data",
          "data": {
            "image/png": "[encoded data removed]",
            "text/plain": [
              "<Figure size 432x288 with 2 Axes>"
            ]
          },
          "metadata": {
            "needs_background": "light"
          }
        }
      ]
    },
    {
      "cell_type": "code",
      "metadata": {
        "id": "7qoObvlTMRBC",
        "colab": {
          "base_uri": "https://localhost:8080/",
          "height": 1000
        },
        "outputId": "9c5a5e08-b8bd-4389-e1c0-c3913d247c4c"
      },
      "source": [
        "plot_tree(dtc_mejor_modelo)"
      ],
      "execution_count": null,
      "outputs": [
        {
          "output_type": "execute_result",
          "data": {
            "text/plain": [
              "[Text(272.041875, 207.55636363636364, 'X[9] <= 43.681\\ngini = 0.281\\nsamples = 1483\\nvalue = [1232, 251]'),\n",
              " Text(226.56375000000003, 187.7890909090909, 'X[5] <= 1.5\\ngini = 0.227\\nsamples = 1409\\nvalue = [1225, 184]'),\n",
              " Text(177.72750000000002, 168.0218181818182, 'X[4] <= 1.5\\ngini = 0.189\\nsamples = 1313\\nvalue = [1174, 139]'),\n",
              " Text(135.13500000000002, 148.25454545454545, 'X[6] <= 173.132\\ngini = 0.169\\nsamples = 1274\\nvalue = [1155, 119]'),\n",
              " Text(95.31, 128.48727272727274, 'X[2] <= 84241.5\\ngini = 0.249\\nsamples = 612\\nvalue = [523, 89]'),\n",
              " Text(58.86000000000001, 108.72, 'X[0] <= 16850.0\\ngini = 0.345\\nsamples = 257\\nvalue = [200, 57]'),\n",
              " Text(31.32, 88.95272727272729, 'X[2] <= 50823.0\\ngini = 0.413\\nsamples = 168\\nvalue = [119, 49]'),\n",
              " Text(8.64, 69.18545454545455, 'X[6] <= 69.725\\ngini = 0.499\\nsamples = 40\\nvalue = [21, 19]'),\n",
              " Text(4.32, 49.418181818181836, 'gini = 0.0\\nsamples = 10\\nvalue = [10, 0]'),\n",
              " Text(12.96, 49.418181818181836, 'X[0] <= 9700.0\\ngini = 0.464\\nsamples = 30\\nvalue = [11, 19]'),\n",
              " Text(8.64, 29.650909090909096, 'gini = 0.0\\nsamples = 13\\nvalue = [0, 13]'),\n",
              " Text(17.28, 29.650909090909096, 'X[6] <= 123.703\\ngini = 0.457\\nsamples = 17\\nvalue = [11, 6]'),\n",
              " Text(12.96, 9.883636363636384, 'gini = 0.0\\nsamples = 10\\nvalue = [10, 0]'),\n",
              " Text(21.6, 9.883636363636384, 'gini = 0.245\\nsamples = 7\\nvalue = [1, 6]'),\n",
              " Text(54.0, 69.18545454545455, 'X[7] <= 4.0\\ngini = 0.359\\nsamples = 128\\nvalue = [98, 30]'),\n",
              " Text(43.2, 49.418181818181836, 'X[2] <= 82193.0\\ngini = 0.32\\nsamples = 120\\nvalue = [96, 24]'),\n",
              " Text(34.56, 29.650909090909096, 'X[3] <= 11.5\\ngini = 0.287\\nsamples = 115\\nvalue = [95, 20]'),\n",
              " Text(30.240000000000002, 9.883636363636384, 'gini = 0.225\\nsamples = 93\\nvalue = [81, 12]'),\n",
              " Text(38.88, 9.883636363636384, 'gini = 0.463\\nsamples = 22\\nvalue = [14, 8]'),\n",
              " Text(51.84, 29.650909090909096, 'X[8] <= 17.5\\ngini = 0.32\\nsamples = 5\\nvalue = [1, 4]'),\n",
              " Text(47.52, 9.883636363636384, 'gini = 0.0\\nsamples = 4\\nvalue = [0, 4]'),\n",
              " Text(56.160000000000004, 9.883636363636384, 'gini = 0.0\\nsamples = 1\\nvalue = [1, 0]'),\n",
              " Text(64.80000000000001, 49.418181818181836, 'X[9] <= 32.558\\ngini = 0.375\\nsamples = 8\\nvalue = [2, 6]'),\n",
              " Text(60.480000000000004, 29.650909090909096, 'gini = 0.0\\nsamples = 2\\nvalue = [2, 0]'),\n",
              " Text(69.12, 29.650909090909096, 'gini = 0.0\\nsamples = 6\\nvalue = [0, 6]'),\n",
              " Text(86.4, 88.95272727272729, 'X[6] <= 64.167\\ngini = 0.164\\nsamples = 89\\nvalue = [81, 8]'),\n",
              " Text(77.76, 69.18545454545455, 'X[2] <= 55356.5\\ngini = 0.444\\nsamples = 15\\nvalue = [10, 5]'),\n",
              " Text(73.44, 49.418181818181836, 'gini = 0.0\\nsamples = 8\\nvalue = [8, 0]'),\n",
              " Text(82.08000000000001, 49.418181818181836, 'X[8] <= 14.0\\ngini = 0.408\\nsamples = 7\\nvalue = [2, 5]'),\n",
              " Text(77.76, 29.650909090909096, 'gini = 0.0\\nsamples = 4\\nvalue = [0, 4]'),\n",
              " Text(86.4, 29.650909090909096, 'X[2] <= 73259.0\\ngini = 0.444\\nsamples = 3\\nvalue = [2, 1]'),\n",
              " Text(82.08000000000001, 9.883636363636384, 'gini = 0.0\\nsamples = 2\\nvalue = [2, 0]'),\n",
              " Text(90.72, 9.883636363636384, 'gini = 0.0\\nsamples = 1\\nvalue = [0, 1]'),\n",
              " Text(95.04, 69.18545454545455, 'X[0] <= 25800.0\\ngini = 0.078\\nsamples = 74\\nvalue = [71, 3]'),\n",
              " Text(90.72, 49.418181818181836, 'gini = 0.0\\nsamples = 47\\nvalue = [47, 0]'),\n",
              " Text(99.36000000000001, 49.418181818181836, 'X[0] <= 26500.0\\ngini = 0.198\\nsamples = 27\\nvalue = [24, 3]'),\n",
              " Text(95.04, 29.650909090909096, 'gini = 0.0\\nsamples = 2\\nvalue = [0, 2]'),\n",
              " Text(103.68, 29.650909090909096, 'X[2] <= 80511.5\\ngini = 0.077\\nsamples = 25\\nvalue = [24, 1]'),\n",
              " Text(99.36000000000001, 9.883636363636384, 'gini = 0.0\\nsamples = 23\\nvalue = [23, 0]'),\n",
              " Text(108.0, 9.883636363636384, 'gini = 0.5\\nsamples = 2\\nvalue = [1, 1]'),\n",
              " Text(131.76000000000002, 108.72, 'X[6] <= 62.536\\ngini = 0.164\\nsamples = 355\\nvalue = [323, 32]'),\n",
              " Text(120.96000000000001, 88.95272727272729, 'X[8] <= 32.5\\ngini = 0.278\\nsamples = 6\\nvalue = [1, 5]'),\n",
              " Text(116.64000000000001, 69.18545454545455, 'gini = 0.0\\nsamples = 5\\nvalue = [0, 5]'),\n",
              " Text(125.28, 69.18545454545455, 'gini = 0.0\\nsamples = 1\\nvalue = [1, 0]'),\n",
              " Text(142.56, 88.95272727272729, 'X[1] <= 197091.0\\ngini = 0.143\\nsamples = 349\\nvalue = [322, 27]'),\n",
              " Text(133.92000000000002, 69.18545454545455, 'X[8] <= 36.5\\ngini = 0.129\\nsamples = 345\\nvalue = [321, 24]'),\n",
              " Text(129.60000000000002, 49.418181818181836, 'X[0] <= 7650.0\\ngini = 0.12\\nsamples = 343\\nvalue = [321, 22]'),\n",
              " Text(120.96000000000001, 29.650909090909096, 'X[9] <= 40.264\\ngini = 0.426\\nsamples = 13\\nvalue = [9, 4]'),\n",
              " Text(116.64000000000001, 9.883636363636384, 'gini = 0.298\\nsamples = 11\\nvalue = [9, 2]'),\n",
              " Text(125.28, 9.883636363636384, 'gini = 0.0\\nsamples = 2\\nvalue = [0, 2]'),\n",
              " Text(138.24, 29.650909090909096, 'X[1] <= 116215.0\\ngini = 0.103\\nsamples = 330\\nvalue = [312, 18]'),\n",
              " Text(133.92000000000002, 9.883636363636384, 'gini = 0.073\\nsamples = 291\\nvalue = [280, 11]'),\n",
              " Text(142.56, 9.883636363636384, 'gini = 0.295\\nsamples = 39\\nvalue = [32, 7]'),\n",
              " Text(138.24, 49.418181818181836, 'gini = 0.0\\nsamples = 2\\nvalue = [0, 2]'),\n",
              " Text(151.20000000000002, 69.18545454545455, 'X[0] <= 32450.0\\ngini = 0.375\\nsamples = 4\\nvalue = [1, 3]'),\n",
              " Text(146.88, 49.418181818181836, 'gini = 0.0\\nsamples = 1\\nvalue = [1, 0]'),\n",
              " Text(155.52, 49.418181818181836, 'gini = 0.0\\nsamples = 3\\nvalue = [0, 3]'),\n",
              " Text(174.96, 128.48727272727274, 'X[9] <= 12.867\\ngini = 0.087\\nsamples = 662\\nvalue = [632, 30]'),\n",
              " Text(170.64000000000001, 108.72, 'gini = 0.0\\nsamples = 2\\nvalue = [0, 2]'),\n",
              " Text(179.28, 108.72, 'X[2] <= 492238.5\\ngini = 0.081\\nsamples = 660\\nvalue = [632, 28]'),\n",
              " Text(174.96, 88.95272727272729, 'X[8] <= 1.5\\ngini = 0.079\\nsamples = 659\\nvalue = [632, 27]'),\n",
              " Text(170.64000000000001, 69.18545454545455, 'gini = 0.0\\nsamples = 1\\nvalue = [0, 1]'),\n",
              " Text(179.28, 69.18545454545455, 'X[5] <= 0.5\\ngini = 0.076\\nsamples = 658\\nvalue = [632, 26]'),\n",
              " Text(164.16000000000003, 49.418181818181836, 'X[2] <= 47415.0\\ngini = 0.059\\nsamples = 587\\nvalue = [569, 18]'),\n",
              " Text(155.52, 29.650909090909096, 'X[1] <= 30098.5\\ngini = 0.278\\nsamples = 18\\nvalue = [15, 3]'),\n",
              " Text(151.20000000000002, 9.883636363636384, 'gini = 0.0\\nsamples = 14\\nvalue = [14, 0]'),\n",
              " Text(159.84, 9.883636363636384, 'gini = 0.375\\nsamples = 4\\nvalue = [1, 3]'),\n",
              " Text(172.8, 29.650909090909096, 'X[1] <= 159932.5\\ngini = 0.051\\nsamples = 569\\nvalue = [554, 15]'),\n",
              " Text(168.48000000000002, 9.883636363636384, 'gini = 0.04\\nsamples = 533\\nvalue = [522, 11]'),\n",
              " Text(177.12, 9.883636363636384, 'gini = 0.198\\nsamples = 36\\nvalue = [32, 4]'),\n",
              " Text(194.4, 49.418181818181836, 'X[0] <= 41850.0\\ngini = 0.2\\nsamples = 71\\nvalue = [63, 8]'),\n",
              " Text(190.08, 29.650909090909096, 'X[4] <= 0.5\\ngini = 0.18\\nsamples = 70\\nvalue = [63, 7]'),\n",
              " Text(185.76000000000002, 9.883636363636384, 'gini = 0.144\\nsamples = 64\\nvalue = [59, 5]'),\n",
              " Text(194.4, 9.883636363636384, 'gini = 0.444\\nsamples = 6\\nvalue = [4, 2]'),\n",
              " Text(198.72000000000003, 29.650909090909096, 'gini = 0.0\\nsamples = 1\\nvalue = [0, 1]'),\n",
              " Text(183.60000000000002, 88.95272727272729, 'gini = 0.0\\nsamples = 1\\nvalue = [0, 1]'),\n",
              " Text(220.32000000000002, 148.25454545454545, 'X[6] <= 179.345\\ngini = 0.5\\nsamples = 39\\nvalue = [19, 20]'),\n",
              " Text(205.20000000000002, 128.48727272727274, 'X[1] <= 68583.0\\ngini = 0.426\\nsamples = 26\\nvalue = [8, 18]'),\n",
              " Text(196.56, 108.72, 'X[3] <= 2.5\\ngini = 0.133\\nsamples = 14\\nvalue = [1, 13]'),\n",
              " Text(192.24, 88.95272727272729, 'X[3] <= 0.5\\ngini = 0.5\\nsamples = 2\\nvalue = [1, 1]'),\n",
              " Text(187.92000000000002, 69.18545454545455, 'gini = 0.0\\nsamples = 1\\nvalue = [0, 1]'),\n",
              " Text(196.56, 69.18545454545455, 'gini = 0.0\\nsamples = 1\\nvalue = [1, 0]'),\n",
              " Text(200.88000000000002, 88.95272727272729, 'gini = 0.0\\nsamples = 12\\nvalue = [0, 12]'),\n",
              " Text(213.84, 108.72, 'X[1] <= 83360.0\\ngini = 0.486\\nsamples = 12\\nvalue = [7, 5]'),\n",
              " Text(209.52, 88.95272727272729, 'gini = 0.0\\nsamples = 6\\nvalue = [6, 0]'),\n",
              " Text(218.16000000000003, 88.95272727272729, 'X[2] <= 133752.0\\ngini = 0.278\\nsamples = 6\\nvalue = [1, 5]'),\n",
              " Text(213.84, 69.18545454545455, 'gini = 0.0\\nsamples = 4\\nvalue = [0, 4]'),\n",
              " Text(222.48000000000002, 69.18545454545455, 'X[7] <= 2.0\\ngini = 0.5\\nsamples = 2\\nvalue = [1, 1]'),\n",
              " Text(218.16000000000003, 49.418181818181836, 'gini = 0.0\\nsamples = 1\\nvalue = [0, 1]'),\n",
              " Text(226.8, 49.418181818181836, 'gini = 0.0\\nsamples = 1\\nvalue = [1, 0]'),\n",
              " Text(235.44000000000003, 128.48727272727274, 'X[6] <= 349.751\\ngini = 0.26\\nsamples = 13\\nvalue = [11, 2]'),\n",
              " Text(231.12, 108.72, 'X[3] <= 1.5\\ngini = 0.153\\nsamples = 12\\nvalue = [11, 1]'),\n",
              " Text(226.8, 88.95272727272729, 'gini = 0.0\\nsamples = 1\\nvalue = [0, 1]'),\n",
              " Text(235.44000000000003, 88.95272727272729, 'gini = 0.0\\nsamples = 11\\nvalue = [11, 0]'),\n",
              " Text(239.76000000000002, 108.72, 'gini = 0.0\\nsamples = 1\\nvalue = [0, 1]'),\n",
              " Text(275.40000000000003, 168.0218181818182, 'X[5] <= 3.5\\ngini = 0.498\\nsamples = 96\\nvalue = [51, 45]'),\n",
              " Text(263.52000000000004, 148.25454545454545, 'X[2] <= 152376.0\\ngini = 0.463\\nsamples = 77\\nvalue = [49, 28]'),\n",
              " Text(259.20000000000005, 128.48727272727274, 'X[6] <= 153.816\\ngini = 0.435\\nsamples = 72\\nvalue = [49, 23]'),\n",
              " Text(248.4, 108.72, 'X[3] <= 4.5\\ngini = 0.499\\nsamples = 25\\nvalue = [12, 13]'),\n",
              " Text(244.08, 88.95272727272729, 'X[2] <= 126349.5\\ngini = 0.32\\nsamples = 15\\nvalue = [12, 3]'),\n",
              " Text(239.76000000000002, 69.18545454545455, 'X[6] <= 29.293\\ngini = 0.142\\nsamples = 13\\nvalue = [12, 1]'),\n",
              " Text(235.44000000000003, 49.418181818181836, 'gini = 0.0\\nsamples = 1\\nvalue = [0, 1]'),\n",
              " Text(244.08, 49.418181818181836, 'gini = 0.0\\nsamples = 12\\nvalue = [12, 0]'),\n",
              " Text(248.4, 69.18545454545455, 'gini = 0.0\\nsamples = 2\\nvalue = [0, 2]'),\n",
              " Text(252.72000000000003, 88.95272727272729, 'gini = 0.0\\nsamples = 10\\nvalue = [0, 10]'),\n",
              " Text(270.0, 108.72, 'X[3] <= 8.0\\ngini = 0.335\\nsamples = 47\\nvalue = [37, 10]'),\n",
              " Text(261.36, 88.95272727272729, 'X[6] <= 206.87\\ngini = 0.488\\nsamples = 19\\nvalue = [11, 8]'),\n",
              " Text(257.04, 69.18545454545455, 'X[1] <= 40302.0\\ngini = 0.391\\nsamples = 15\\nvalue = [11, 4]'),\n",
              " Text(252.72000000000003, 49.418181818181836, 'gini = 0.0\\nsamples = 2\\nvalue = [0, 2]'),\n",
              " Text(261.36, 49.418181818181836, 'X[3] <= 6.5\\ngini = 0.26\\nsamples = 13\\nvalue = [11, 2]'),\n",
              " Text(257.04, 29.650909090909096, 'gini = 0.0\\nsamples = 10\\nvalue = [10, 0]'),\n",
              " Text(265.68, 29.650909090909096, 'X[2] <= 68546.0\\ngini = 0.444\\nsamples = 3\\nvalue = [1, 2]'),\n",
              " Text(261.36, 9.883636363636384, 'gini = 0.0\\nsamples = 1\\nvalue = [1, 0]'),\n",
              " Text(270.0, 9.883636363636384, 'gini = 0.0\\nsamples = 2\\nvalue = [0, 2]'),\n",
              " Text(265.68, 69.18545454545455, 'gini = 0.0\\nsamples = 4\\nvalue = [0, 4]'),\n",
              " Text(278.64000000000004, 88.95272727272729, 'X[0] <= 27950.0\\ngini = 0.133\\nsamples = 28\\nvalue = [26, 2]'),\n",
              " Text(274.32, 69.18545454545455, 'X[0] <= 23950.0\\ngini = 0.071\\nsamples = 27\\nvalue = [26, 1]'),\n",
              " Text(270.0, 49.418181818181836, 'gini = 0.0\\nsamples = 24\\nvalue = [24, 0]'),\n",
              " Text(278.64000000000004, 49.418181818181836, 'X[2] <= 110302.5\\ngini = 0.444\\nsamples = 3\\nvalue = [2, 1]'),\n",
              " Text(274.32, 29.650909090909096, 'gini = 0.0\\nsamples = 2\\nvalue = [2, 0]'),\n",
              " Text(282.96000000000004, 29.650909090909096, 'gini = 0.0\\nsamples = 1\\nvalue = [0, 1]'),\n",
              " Text(282.96000000000004, 69.18545454545455, 'gini = 0.0\\nsamples = 1\\nvalue = [0, 1]'),\n",
              " Text(267.84000000000003, 128.48727272727274, 'gini = 0.0\\nsamples = 5\\nvalue = [0, 5]'),\n",
              " Text(287.28000000000003, 148.25454545454545, 'X[2] <= 66953.5\\ngini = 0.188\\nsamples = 19\\nvalue = [2, 17]'),\n",
              " Text(282.96000000000004, 128.48727272727274, 'X[6] <= 231.232\\ngini = 0.444\\nsamples = 3\\nvalue = [2, 1]'),\n",
              " Text(278.64000000000004, 108.72, 'gini = 0.0\\nsamples = 2\\nvalue = [2, 0]'),\n",
              " Text(287.28000000000003, 108.72, 'gini = 0.0\\nsamples = 1\\nvalue = [0, 1]'),\n",
              " Text(291.6, 128.48727272727274, 'gini = 0.0\\nsamples = 16\\nvalue = [0, 16]'),\n",
              " Text(317.52000000000004, 187.7890909090909, 'X[6] <= 299.897\\ngini = 0.171\\nsamples = 74\\nvalue = [7, 67]'),\n",
              " Text(308.88, 168.0218181818182, 'X[9] <= 44.155\\ngini = 0.108\\nsamples = 70\\nvalue = [4, 66]'),\n",
              " Text(304.56, 148.25454545454545, 'X[8] <= 19.5\\ngini = 0.48\\nsamples = 10\\nvalue = [4, 6]'),\n",
              " Text(300.24, 128.48727272727274, 'gini = 0.0\\nsamples = 3\\nvalue = [3, 0]'),\n",
              " Text(308.88, 128.48727272727274, 'X[8] <= 31.5\\ngini = 0.245\\nsamples = 7\\nvalue = [1, 6]'),\n",
              " Text(304.56, 108.72, 'gini = 0.0\\nsamples = 5\\nvalue = [0, 5]'),\n",
              " Text(313.20000000000005, 108.72, 'X[7] <= 0.5\\ngini = 0.5\\nsamples = 2\\nvalue = [1, 1]'),\n",
              " Text(308.88, 88.95272727272729, 'gini = 0.0\\nsamples = 1\\nvalue = [0, 1]'),\n",
              " Text(317.52000000000004, 88.95272727272729, 'gini = 0.0\\nsamples = 1\\nvalue = [1, 0]'),\n",
              " Text(313.20000000000005, 148.25454545454545, 'gini = 0.0\\nsamples = 60\\nvalue = [0, 60]'),\n",
              " Text(326.16, 168.0218181818182, 'X[1] <= 99857.5\\ngini = 0.375\\nsamples = 4\\nvalue = [3, 1]'),\n",
              " Text(321.84000000000003, 148.25454545454545, 'gini = 0.0\\nsamples = 1\\nvalue = [0, 1]'),\n",
              " Text(330.48, 148.25454545454545, 'gini = 0.0\\nsamples = 3\\nvalue = [3, 0]')]"
            ]
          },
          "metadata": {},
          "execution_count": 78
        },
        {
          "output_type": "display_data",
          "data": {
            "image/png": "[encoded data removed]",
            "text/plain": [
              "<Figure size 432x288 with 1 Axes>"
            ]
          },
          "metadata": {
            "needs_background": "light"
          }
        }
      ]
    },
    {
      "cell_type": "markdown",
      "metadata": {
        "id": "mjj3bcbouLSi"
      },
      "source": [
        "#### Comparacion entre hiperparametros por defecto y busqueda de hiperparametros"
      ]
    },
    {
      "cell_type": "code",
      "metadata": {
        "colab": {
          "base_uri": "https://localhost:8080/"
        },
        "id": "JlVcwbxyqnJC",
        "outputId": "6ecfd215-d6d6-454a-b4d5-c81d85146412"
      },
      "source": [
        "print(f'Evaluación sin ajuste=\\n', 'Reporte test=\\n', Reporte_test_dtc)\n",
        "print('')\n",
        "print(f'Evaluación con ajuste de hiperparametros=\\n', 'Reporte test mejor modelo=\\n', Reporte_test_dtc_mm)\n",
        "#print(f'Entrenamiento sin ajuste=\\n', 'Reporte train=\\n', Reporte_train_dtc)\n",
        "#print('')\n",
        "#print(f'Entrenamiento con ajuste de hiperparametros=\\n', 'Reporte train mejor modelo=\\n', Reporte_train_dtc_mm)\n",
        "#print('==============================')"
      ],
      "execution_count": null,
      "outputs": [
        {
          "output_type": "stream",
          "name": "stdout",
          "text": [
            "Evaluación sin ajuste=\n",
            " Reporte test=\n",
            "               precision    recall  f1-score   support\n",
            "\n",
            "           0       0.93      0.93      0.93       313\n",
            "           1       0.62      0.64      0.63        58\n",
            "\n",
            "    accuracy                           0.88       371\n",
            "   macro avg       0.77      0.78      0.78       371\n",
            "weighted avg       0.88      0.88      0.88       371\n",
            "\n",
            "\n",
            "Evaluación con ajuste de hiperparametros=\n",
            " Reporte test mejor modelo=\n",
            "               precision    recall  f1-score   support\n",
            "\n",
            "           0       0.92      0.96      0.94       313\n",
            "           1       0.74      0.53      0.62        58\n",
            "\n",
            "    accuracy                           0.90       371\n",
            "   macro avg       0.83      0.75      0.78       371\n",
            "weighted avg       0.89      0.90      0.89       371\n",
            "\n"
          ]
        }
      ]
    },
    {
      "cell_type": "markdown",
      "metadata": {
        "id": "b67i9-FJueJe"
      },
      "source": [
        "Observando el reporte sobre el conjunto de test, vemos que el modelo con ajuste de hiperparametros tiene mejor resultado respecto a accuracy, que es la metrica utilizada para buscar hiperparametros, y disminuye su performance respecto a f1-score, particularmente respecto a la metrica 'recall'. \n",
        "\n",
        "Los resultados del modelo 'Arbol de decision' fueron superiores, tanto en 'accuracy' como en 'f1-score', a los modelos lineales.\n",
        "\n"
      ]
    }
  ]
}