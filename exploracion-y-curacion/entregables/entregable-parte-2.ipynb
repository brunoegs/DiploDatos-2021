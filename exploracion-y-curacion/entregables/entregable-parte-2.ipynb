{
  "nbformat": 4,
  "nbformat_minor": 0,
  "metadata": {
    "colab": {
      "name": "Curacion Entregable Parte 2 (Copia 07 08 2021 ).ipynb",
      "provenance": [],
      "collapsed_sections": [
        "xLF41q21va3K"
      ],
      "include_colab_link": true
    },
    "kernelspec": {
      "name": "python3",
      "display_name": "Python 3"
    },
    "language_info": {
      "name": "python"
    }
  },
  "cells": [
    {
      "cell_type": "markdown",
      "metadata": {
        "id": "view-in-github",
        "colab_type": "text"
      },
      "source": [
        "<a href=\"https://colab.research.google.com/github/brunoegs/DiploDatos2021/blob/main/exploracion-y-curacion/entregables/entregable-parte-2.ipynb\" target=\"_parent\"><img src=\"https://colab.research.google.com/assets/colab-badge.svg\" alt=\"Open In Colab\"/></a>"
      ]
    },
    {
      "cell_type": "markdown",
      "metadata": {
        "id": "zO4bRoxr2Apy"
      },
      "source": [
        "**Diplomatura en Ciencia de Datos, Aprendizaje Automático y sus Aplicaciones**\n",
        "\n",
        "**Exploración y Curación de Datos**\n",
        "\n",
        "*Edición 2021*\n",
        "\n",
        "----\n",
        "\n",
        "# Trabajo práctico entregable - parte 2\n",
        "\n",
        "\n",
        "En el ejercicio 1 de la parte 1 del entregable seleccionaron las filas y columnas relevantes al problema de predicción de precios de una propiedad. Además de ello, tuvieron que reducir el número de valores posibles para las variables categóricas utilizando información de dominio.\n",
        "\n",
        "En el ejercicio 2 de la parte 1 del entregable imputaron los valores faltantes de las columnas `Suburb` y las columnas obtenidas a partir del conjunto de datos `airbnb`.\n",
        "\n",
        "En esta notebook, **se utilizará resultado de dichas operaciones.**\n"
      ]
    },
    {
      "cell_type": "code",
      "metadata": {
        "id": "4udjxjk1EtVU"
      },
      "source": [
        "import matplotlib.pyplot as plt\n",
        "import numpy\n",
        "import pandas\n",
        "\n",
        "import seaborn\n",
        "seaborn.set_context('talk')"
      ],
      "execution_count": 1,
      "outputs": []
    },
    {
      "cell_type": "code",
      "metadata": {
        "colab": {
          "base_uri": "https://localhost:8080/"
        },
        "id": "lm1PCgXx1uJx",
        "outputId": "7c86f6b2-d527-4719-b606-232b0dbf94b8"
      },
      "source": [
        "# Acá deberían leer el conjunto de datos que ya tienen.\n",
        "#'https://github.com/Nicoch590/Curacion/blob/main/DataFrame_curado.csv'\n",
        "melb_df_or = pandas.read_csv('https://raw.githubusercontent.com/Nicoch590/Curacion/main/DataFrame_curado.csv')\n",
        "melb_df_or[:3]\n",
        "\n",
        "melb_df=melb_df_or.copy()\n",
        "\n",
        "melb_df.Suburb.nunique()"
      ],
      "execution_count": 2,
      "outputs": [
        {
          "output_type": "execute_result",
          "data": {
            "text/plain": [
              "232"
            ]
          },
          "metadata": {},
          "execution_count": 2
        }
      ]
    },
    {
      "cell_type": "code",
      "metadata": {
        "colab": {
          "base_uri": "https://localhost:8080/"
        },
        "id": "y0Is87KwVIQa",
        "outputId": "5620cbd0-d872-460f-eee1-de85cff30905"
      },
      "source": [
        "melb_df_or.columns"
      ],
      "execution_count": 3,
      "outputs": [
        {
          "output_type": "execute_result",
          "data": {
            "text/plain": [
              "Index(['Suburb', 'Rooms', 'Type', 'Price', 'date', 'Distance', 'Postcode',\n",
              "       'Bathroom', 'Car', 'BuildingArea', 'YearBuilt', 'Lattitude',\n",
              "       'Longtitude', 'zipcode', 'airbnb_price_mean', 'airbnb_record_count',\n",
              "       'airbnb_weekly_price_mean', 'airbnb_monthly_price_mean'],\n",
              "      dtype='object')"
            ]
          },
          "metadata": {},
          "execution_count": 3
        }
      ]
    },
    {
      "cell_type": "markdown",
      "metadata": {
        "id": "s-mixICN22kA"
      },
      "source": [
        "## Ejercicio 1: Encoding\n",
        "\n",
        "1. Seleccionar todas las filas y columnas del conjunto de datos obtenido en la parte 1 del entregable, **excepto** `BuildingArea` y `YearBuilt`, que volveremos a imputar más adelante.\n",
        "\n",
        "2. Aplicar una codificación One-hot encoding a cada fila, tanto para variables numéricas como categóricas. Si lo consideran necesario, pueden volver a reducir el número de categorías únicas.\n",
        "\n",
        "Algunas opciones:\n",
        "  1. Utilizar `OneHotEncoder` junto con el parámetro `categories` para las variables categóricas y luego usar `numpy.hstack` para concatenar el resultado con las variables numéricas. \n",
        "  2. `DictVectorizer` con algunos pasos de pre-proceso previo.\n",
        "\n",
        "Recordar también que el atributo `pandas.DataFrame.values` permite acceder a la matriz de numpy subyacente a un DataFrame.\n"
      ]
    },
    {
      "cell_type": "code",
      "metadata": {
        "id": "QqCG2ScvJF-1"
      },
      "source": [
        "# Reduccion de Suburbios: realizamos una reduccion mayor de los suburbios por cuestiones de RAM\n",
        "Suburb_count = melb_df.Suburb.value_counts().reset_index().rename(columns={'index':'suburb','Suburb':'count'})\n",
        "Suburb_reduccion = list(Suburb_count[Suburb_count['count']>100].suburb)"
      ],
      "execution_count": 4,
      "outputs": []
    },
    {
      "cell_type": "code",
      "metadata": {
        "id": "wA7iXfuMRBaP"
      },
      "source": [
        "# Suburbios con menos de 100 registros se clasifican como 'Other_suburbs'\n",
        "melb_df['Suburb_red']=numpy.where(melb_df.Suburb.isin(Suburb_reduccion),melb_df.Suburb,'Other_Suburbs')"
      ],
      "execution_count": 5,
      "outputs": []
    },
    {
      "cell_type": "code",
      "metadata": {
        "id": "muJQTr3pIW3V"
      },
      "source": [
        "# Tomamos de la variable date solo el mes en que se realizo la venta\n",
        "melb_df['month'] = pandas.DatetimeIndex(melb_df['date']).month"
      ],
      "execution_count": 6,
      "outputs": []
    },
    {
      "cell_type": "code",
      "metadata": {
        "id": "mb56N9tL16Lw"
      },
      "source": [
        "# Seleccion de columnas relevantes, categoricas y numericas\n",
        "cols_1 =['Suburb', 'Rooms', 'Type', 'Price', 'date', 'Distance', 'Postcode',\n",
        "       'Bathroom', 'Car', 'BuildingArea', 'YearBuilt', 'Lattitude',\n",
        "       'Longtitude', 'zipcode', 'airbnb_price_mean', 'airbnb_record_count',\n",
        "       'airbnb_weekly_price_mean', 'airbnb_monthly_price_mean']\n",
        "\n",
        "categorical_cols = ['Suburb_red','Type','month'] \n",
        "numerical_cols = ['Rooms','Bathroom','Car', 'Distance', 'Price','Lattitude',  \n",
        "       'Longtitude','airbnb_price_mean','airbnb_weekly_price_mean', 'airbnb_monthly_price_mean'] "
      ],
      "execution_count": 7,
      "outputs": []
    },
    {
      "cell_type": "code",
      "metadata": {
        "colab": {
          "base_uri": "https://localhost:8080/"
        },
        "id": "tMsSGCX4164n",
        "outputId": "3a80b645-3039-4636-cdbb-31c54151c14c"
      },
      "source": [
        "# cantidad de categorias por variable categoricas\n",
        "melb_df[categorical_cols].nunique()"
      ],
      "execution_count": 8,
      "outputs": [
        {
          "output_type": "execute_result",
          "data": {
            "text/plain": [
              "Suburb_red    43\n",
              "Type           3\n",
              "month         12\n",
              "dtype: int64"
            ]
          },
          "metadata": {},
          "execution_count": 8
        }
      ]
    },
    {
      "cell_type": "code",
      "metadata": {
        "colab": {
          "base_uri": "https://localhost:8080/"
        },
        "id": "XPDDOVHNNywn",
        "outputId": "cd4570a8-3f98-4bc7-b20f-e621dbea0cab"
      },
      "source": [
        "# Check for nulls\n",
        "melb_df[categorical_cols].isna().sum()"
      ],
      "execution_count": 9,
      "outputs": [
        {
          "output_type": "execute_result",
          "data": {
            "text/plain": [
              "Suburb_red    0\n",
              "Type          0\n",
              "month         0\n",
              "dtype: int64"
            ]
          },
          "metadata": {},
          "execution_count": 9
        }
      ]
    },
    {
      "cell_type": "code",
      "metadata": {
        "colab": {
          "base_uri": "https://localhost:8080/"
        },
        "id": "D2nOBwHX2ByQ",
        "outputId": "b7279fb8-d7e7-4d8b-aa05-2b2fd71f169c"
      },
      "source": [
        "# Importamos y entrenamos OneHotEncoder\n",
        "from sklearn.preprocessing import OneHotEncoder\n",
        "encoder = OneHotEncoder(sparse=False)\n",
        "encoder.fit(melb_df[categorical_cols])"
      ],
      "execution_count": 10,
      "outputs": [
        {
          "output_type": "execute_result",
          "data": {
            "text/plain": [
              "OneHotEncoder(categories='auto', drop=None, dtype=<class 'numpy.float64'>,\n",
              "              handle_unknown='error', sparse=False)"
            ]
          },
          "metadata": {},
          "execution_count": 10
        }
      ]
    },
    {
      "cell_type": "code",
      "metadata": {
        "colab": {
          "base_uri": "https://localhost:8080/"
        },
        "id": "pIojmCom2Mtn",
        "outputId": "237c1a67-da34-4bd2-afc5-9f262c1e38bf"
      },
      "source": [
        "# Transformamos las columnas Categoricas\n",
        "encoded_categorical = encoder.transform(melb_df[categorical_cols])\n",
        "\n",
        "# Almacenamos los nombres de las variables categoricas\n",
        "new_columns = [] # lista con nombres de columnas\n",
        "for col, col_values in zip(categorical_cols, encoder.categories_):\n",
        "  for col_value in col_values:\n",
        "    new_columns.append('{}={}'.format(col, col_value))\n",
        "print(\"Matrix has shape {}, with columns: {}\".format(encoded_categorical.shape, new_columns))\n",
        "\n",
        "# Agregar las variables numericas al encoding anterior\n",
        "melb_encoded = numpy.hstack((encoded_categorical,melb_df[numerical_cols]))\n",
        "new_columns.extend(numerical_cols)\n",
        "print(\"Matrix has shape {}, with columns: {}\".format(melb_encoded.shape, new_columns))\n"
      ],
      "execution_count": 11,
      "outputs": [
        {
          "output_type": "stream",
          "text": [
            "Matrix has shape (13298, 58), with columns: ['Suburb_red=Ascot Vale', 'Suburb_red=Balwyn North', 'Suburb_red=Bentleigh', 'Suburb_red=Bentleigh East', 'Suburb_red=Brighton', 'Suburb_red=Brighton East', 'Suburb_red=Brunswick', 'Suburb_red=Brunswick West', 'Suburb_red=Camberwell', 'Suburb_red=Carnegie', 'Suburb_red=Coburg', 'Suburb_red=Doncaster', 'Suburb_red=Elwood', 'Suburb_red=Essendon', 'Suburb_red=Fawkner', 'Suburb_red=Footscray', 'Suburb_red=Glen Iris', 'Suburb_red=Glenroy', 'Suburb_red=Hampton', 'Suburb_red=Hawthorn', 'Suburb_red=Hawthorn East', 'Suburb_red=Keilor East', 'Suburb_red=Kensington', 'Suburb_red=Kew', 'Suburb_red=Malvern East', 'Suburb_red=Moonee Ponds', 'Suburb_red=Newport', 'Suburb_red=Northcote', 'Suburb_red=Other_Suburbs', 'Suburb_red=Pascoe Vale', 'Suburb_red=Port Melbourne', 'Suburb_red=Prahran', 'Suburb_red=Preston', 'Suburb_red=Reservoir', 'Suburb_red=Richmond', 'Suburb_red=South Yarra', 'Suburb_red=St Kilda', 'Suburb_red=Sunshine', 'Suburb_red=Surrey Hills', 'Suburb_red=Thornbury', 'Suburb_red=West Footscray', 'Suburb_red=Williamstown', 'Suburb_red=Yarraville', 'Type=h', 'Type=t', 'Type=u', 'month=1', 'month=2', 'month=3', 'month=4', 'month=5', 'month=6', 'month=7', 'month=8', 'month=9', 'month=10', 'month=11', 'month=12']\n",
            "Matrix has shape (13298, 68), with columns: ['Suburb_red=Ascot Vale', 'Suburb_red=Balwyn North', 'Suburb_red=Bentleigh', 'Suburb_red=Bentleigh East', 'Suburb_red=Brighton', 'Suburb_red=Brighton East', 'Suburb_red=Brunswick', 'Suburb_red=Brunswick West', 'Suburb_red=Camberwell', 'Suburb_red=Carnegie', 'Suburb_red=Coburg', 'Suburb_red=Doncaster', 'Suburb_red=Elwood', 'Suburb_red=Essendon', 'Suburb_red=Fawkner', 'Suburb_red=Footscray', 'Suburb_red=Glen Iris', 'Suburb_red=Glenroy', 'Suburb_red=Hampton', 'Suburb_red=Hawthorn', 'Suburb_red=Hawthorn East', 'Suburb_red=Keilor East', 'Suburb_red=Kensington', 'Suburb_red=Kew', 'Suburb_red=Malvern East', 'Suburb_red=Moonee Ponds', 'Suburb_red=Newport', 'Suburb_red=Northcote', 'Suburb_red=Other_Suburbs', 'Suburb_red=Pascoe Vale', 'Suburb_red=Port Melbourne', 'Suburb_red=Prahran', 'Suburb_red=Preston', 'Suburb_red=Reservoir', 'Suburb_red=Richmond', 'Suburb_red=South Yarra', 'Suburb_red=St Kilda', 'Suburb_red=Sunshine', 'Suburb_red=Surrey Hills', 'Suburb_red=Thornbury', 'Suburb_red=West Footscray', 'Suburb_red=Williamstown', 'Suburb_red=Yarraville', 'Type=h', 'Type=t', 'Type=u', 'month=1', 'month=2', 'month=3', 'month=4', 'month=5', 'month=6', 'month=7', 'month=8', 'month=9', 'month=10', 'month=11', 'month=12', 'Rooms', 'Bathroom', 'Car', 'Distance', 'Price', 'Lattitude', 'Longtitude', 'airbnb_price_mean', 'airbnb_weekly_price_mean', 'airbnb_monthly_price_mean']\n"
          ],
          "name": "stdout"
        }
      ]
    },
    {
      "cell_type": "markdown",
      "metadata": {
        "id": "ismngxPcfoWb"
      },
      "source": [
        "## Ejercicio 2: Imputación por KNN\n",
        "\n",
        "En el teórico se presentó el método `IterativeImputer` para imputar valores faltantes en variables numéricas. Sin embargo, los ejemplos presentados sólo utilizaban algunas variables numéricas presentes en el conjunto de datos. En este ejercicio, utilizaremos la matriz de datos codificada para imputar datos faltantes de manera más precisa.\n",
        "\n",
        "1. Agregue a la matriz obtenida en el punto anterior las columnas `YearBuilt` y `BuildingArea`.\n",
        "2. Aplique una instancia de `IterativeImputer` con un estimador `KNeighborsRegressor` para imputar los valores de las variables. ¿Es necesario estandarizar o escalar los datos previamente?\n",
        "3. Realice un gráfico mostrando la distribución de cada variable antes de ser imputada, y con ambos métodos de imputación."
      ]
    },
    {
      "cell_type": "code",
      "metadata": {
        "colab": {
          "base_uri": "https://localhost:8080/"
        },
        "id": "o_M2yoIz2QAH",
        "outputId": "db264b23-ef60-4d8f-dfe0-74208cdb8247"
      },
      "source": [
        "# Agregamos las columnas yearbuilt,buildingarea \n",
        "melb_enc_ag = numpy.hstack((melb_encoded,melb_df[['YearBuilt','BuildingArea']]))\n",
        "# Agregamos las columnas al Registro de nombres para reconstruir DataFrame\n",
        "new_columns.extend(['YearBuilt','BuildingArea'])\n",
        "melb_enc_ag.shape"
      ],
      "execution_count": 12,
      "outputs": [
        {
          "output_type": "execute_result",
          "data": {
            "text/plain": [
              "(13298, 70)"
            ]
          },
          "metadata": {},
          "execution_count": 12
        }
      ]
    },
    {
      "cell_type": "code",
      "metadata": {
        "colab": {
          "base_uri": "https://localhost:8080/"
        },
        "id": "4SIehrP62XEP",
        "outputId": "11b4b232-e4d2-40f1-ee9b-259834f48783"
      },
      "source": [
        "# Almacenamos la ubicacion da las columnas YearBuilt,BuildingArea\n",
        "Yb= new_columns.index('YearBuilt')\n",
        "Ba= new_columns.index('BuildingArea')\n",
        "melb_enc_ag[:,[Yb,Ba]]\n"
      ],
      "execution_count": 13,
      "outputs": [
        {
          "output_type": "execute_result",
          "data": {
            "text/plain": [
              "array([[  nan,   nan],\n",
              "       [1900.,   79.],\n",
              "       [1900.,  150.],\n",
              "       ...,\n",
              "       [1997.,   nan],\n",
              "       [1920.,  157.],\n",
              "       [1920.,  112.]])"
            ]
          },
          "metadata": {},
          "execution_count": 13
        }
      ]
    },
    {
      "cell_type": "code",
      "metadata": {
        "id": "1ZQELT_eAp07"
      },
      "source": [
        "melb_enc_ag_escal=melb_enc_ag.copy()"
      ],
      "execution_count": 14,
      "outputs": []
    },
    {
      "cell_type": "markdown",
      "metadata": {
        "id": "eWGL8QUI8lA_"
      },
      "source": [
        "El imputador KNN regresor necesita que los datos esten escalados, utilizamos MinMaxScaler para escalar la matriz "
      ]
    },
    {
      "cell_type": "code",
      "metadata": {
        "colab": {
          "base_uri": "https://localhost:8080/"
        },
        "id": "ScPxv1IX_zVj",
        "outputId": "6d08f317-c682-48cf-f681-e5013d22c736"
      },
      "source": [
        "#Escalado con MinMaxScaler\n",
        "from sklearn.preprocessing import MinMaxScaler\n",
        "\n",
        "scaler=MinMaxScaler()\n",
        "scaler.fit(melb_enc_ag_escal)\n",
        "\n",
        "melb_enc_ag_escal=scaler.transform(melb_enc_ag_escal)\n",
        "melb_enc_ag_escal.shape\n"
      ],
      "execution_count": 15,
      "outputs": [
        {
          "output_type": "execute_result",
          "data": {
            "text/plain": [
              "(13298, 70)"
            ]
          },
          "metadata": {},
          "execution_count": 15
        }
      ]
    },
    {
      "cell_type": "markdown",
      "metadata": {
        "id": "OFKYjV5dAxqo"
      },
      "source": [
        "Realizamos la imputacion de las columnas con dos metodos: el primero utilizando solo las columnas BuildingArea, YearBuilt , y el segundo metodo utilizando todas las variables seleccionadas."
      ]
    },
    {
      "cell_type": "code",
      "metadata": {
        "colab": {
          "base_uri": "https://localhost:8080/"
        },
        "id": "TFXlXqk52Xx_",
        "outputId": "5914c59d-c1fa-4a20-cb66-ab246386f0ad"
      },
      "source": [
        "from sklearn.experimental import enable_iterative_imputer\n",
        "from sklearn.neighbors import KNeighborsRegressor\n",
        "from sklearn.impute import IterativeImputer\n",
        "\n",
        "melb_data_mice = melb_df.copy(deep=True)\n",
        "melb_enc_ag_imp = melb_enc_ag_escal.copy()\n",
        "\n",
        "# Imputacion utilizando solo las columnas YearBuilt y BuildingArea\n",
        "mice_imputer = IterativeImputer(random_state=0, estimator=KNeighborsRegressor())\n",
        "melb_data_mice[['YearBuilt','BuildingArea']] = mice_imputer.fit_transform(\n",
        "    melb_data_mice[['YearBuilt', 'BuildingArea']])\n",
        "\n",
        "# Imputacion utilizando todas las columnas seleccionadas\n",
        "mice_imputer_enc = IterativeImputer(random_state=0,estimator=KNeighborsRegressor())\n",
        "melb_enc_ag_imp = mice_imputer_enc.fit_transform(melb_enc_ag_imp)"
      ],
      "execution_count": 16,
      "outputs": [
        {
          "output_type": "stream",
          "text": [
            "/usr/local/lib/python3.7/dist-packages/sklearn/impute/_iterative.py:638: ConvergenceWarning: [IterativeImputer] Early stopping criterion not reached.\n",
            "  \" reached.\", ConvergenceWarning)\n"
          ],
          "name": "stderr"
        }
      ]
    },
    {
      "cell_type": "markdown",
      "metadata": {
        "id": "80xmak1a7jVF"
      },
      "source": [
        "Luego de Realizar la imputacion re-escalamos los datos a sus dimensiones originales para graficar y comparar los metodos de imputacion."
      ]
    },
    {
      "cell_type": "code",
      "metadata": {
        "id": "74kunp43WxdN",
        "colab": {
          "base_uri": "https://localhost:8080/"
        },
        "outputId": "367c8dc1-9c2d-4b52-a849-a9b2063ac932"
      },
      "source": [
        "# Re escalado de datos a dimensiones originales\n",
        "melb_all_imp = scaler.inverse_transform(melb_enc_ag_imp)\n",
        "melb_all_imp.shape"
      ],
      "execution_count": 17,
      "outputs": [
        {
          "output_type": "execute_result",
          "data": {
            "text/plain": [
              "(13298, 70)"
            ]
          },
          "metadata": {},
          "execution_count": 17
        }
      ]
    },
    {
      "cell_type": "markdown",
      "metadata": {
        "id": "ImjXQZUbVoKH"
      },
      "source": [
        "Ejemplo de gráfico comparando las distribuciones de datos obtenidas con cada método de imputación."
      ]
    },
    {
      "cell_type": "code",
      "metadata": {
        "id": "cgmpGcI-5KkF"
      },
      "source": [
        "# Construimos DataFrames con las columnas imputadas Yearbuilt,BuildingArea \n",
        "melb_all_built= pandas.DataFrame(melb_all_imp[:,Yb],columns=['YearBuilt'])\n",
        "melb_all_built['Imputation']='KNN all Var'\n",
        "melb_all_Area=pandas.DataFrame(melb_all_imp[:,Ba],columns=['BuildingArea'])\n",
        "melb_all_Area['Imputation']='KNN all Var'"
      ],
      "execution_count": 18,
      "outputs": []
    },
    {
      "cell_type": "code",
      "metadata": {
        "id": "PMK1ktqYQTJK",
        "colab": {
          "base_uri": "https://localhost:8080/",
          "height": 518
        },
        "outputId": "b97fbb91-77fd-405c-ccc7-cafb27bca837"
      },
      "source": [
        "mice_year_built = melb_data_mice.YearBuilt.to_frame()\n",
        "mice_year_built['Imputation'] = 'KNN over YearBuilt and BuildingArea'\n",
        "melb_year_build = melb_df.YearBuilt.dropna().to_frame()\n",
        "melb_year_build['Imputation'] = 'Original'\n",
        "data_year = pandas.concat([mice_year_built, melb_year_build,melb_all_built])\n",
        "fig = plt.figure(figsize=(12, 8))\n",
        "g = seaborn.kdeplot(data=data_year[data_year.YearBuilt>1800], x='YearBuilt', hue='Imputation')"
      ],
      "execution_count": 19,
      "outputs": [
        {
          "output_type": "display_data",
          "data": {
            "image/png": "[encoded data removed]",
            "text/plain": [
              "<Figure size 864x576 with 1 Axes>"
            ]
          },
          "metadata": {
            "needs_background": "light"
          }
        }
      ]
    },
    {
      "cell_type": "markdown",
      "metadata": {
        "id": "Qe0PQk8n8Sbm"
      },
      "source": [
        "En el grafico podemos observar, que el metodo que utiliza todas las columnas seleccionadas (\"KNN All Var\") se aproxima mas a la distribucion de la variable YearBuilt original que el Metodo que solo utiliza las variables imputadas."
      ]
    },
    {
      "cell_type": "code",
      "metadata": {
        "colab": {
          "base_uri": "https://localhost:8080/",
          "height": 518
        },
        "id": "Gl_aWhdE9E-4",
        "outputId": "ffd051ef-f3c6-4775-cd98-16faf4100ce4"
      },
      "source": [
        "mice_year_Area = melb_data_mice.BuildingArea.to_frame()\n",
        "mice_year_Area['Imputation'] = 'KNN over YearBuilt and BuildingArea'\n",
        "melb_year_Area = melb_df.BuildingArea.dropna().to_frame()\n",
        "melb_year_Area['Imputation'] = 'Original'\n",
        "data_Area = pandas.concat([mice_year_Area, melb_year_Area,melb_all_Area])\n",
        "fig = plt.figure(figsize=(12, 8))\n",
        "g = seaborn.kdeplot(data=data_Area[data_Area.BuildingArea<20000], x='BuildingArea', hue='Imputation')"
      ],
      "execution_count": 20,
      "outputs": [
        {
          "output_type": "display_data",
          "data": {
            "image/png": "[encoded data removed]",
            "text/plain": [
              "<Figure size 864x576 with 1 Axes>"
            ]
          },
          "metadata": {
            "needs_background": "light"
          }
        }
      ]
    },
    {
      "cell_type": "markdown",
      "metadata": {
        "id": "saVfC2YYCrjO"
      },
      "source": [
        "En el grafico podemos observar, que el metodo que utiliza todas las columnas seleccionadas (\"KNN All Var\") se aproxima mas a la distribucion de la variable BuildingArea original que el Metodo que solo utiliza las variables imputadas. "
      ]
    },
    {
      "cell_type": "markdown",
      "metadata": {
        "id": "NBN7-5OIxjJW"
      },
      "source": [
        "## Ejercicio 3: Reducción de dimensionalidad.\n",
        "\n",
        "Utilizando la matriz obtenida en el ejercicio anterior:\n",
        "1. Aplique `PCA` para obtener $n$ componentes principales de la matriz, donde `n = min(20, X.shape[0])`. ¿Es necesario estandarizar o escalar los datos?\n",
        "2. Grafique la varianza capturada por los primeros $n$ componentes principales, para cada $n$.\n",
        "3. En base al gráfico, seleccione las primeras $m$ columnas de la matriz transformada para agregar como nuevas características al conjunto de datos."
      ]
    },
    {
      "cell_type": "code",
      "metadata": {
        "id": "IMa7_9XxDF_l"
      },
      "source": [
        "n= min(20,melb_enc_ag_imp.shape[1])"
      ],
      "execution_count": 21,
      "outputs": []
    },
    {
      "cell_type": "markdown",
      "metadata": {
        "id": "G4EADtjIPenH"
      },
      "source": [
        "Para realizar PCA es necesario que los datos esten escalados, ya que si no los estuvieran, las variables con mayores valores absolutos representarian la mayor varianza e influirian en el calculo de las componentes principales. Tomamos la matriz utilizada en el ejercicio anterior para calcular componentes principales."
      ]
    },
    {
      "cell_type": "code",
      "metadata": {
        "id": "jPzAK8-kXNyB"
      },
      "source": [
        "pca_melb_data= melb_enc_ag_imp.copy()"
      ],
      "execution_count": 22,
      "outputs": []
    },
    {
      "cell_type": "code",
      "metadata": {
        "id": "SRgX-Mr7Xb7X"
      },
      "source": [
        "# Eliminamos la variable 'Price' para realizar la proyeccion sobre componentes principales\n",
        "pca_melb_data = numpy.delete(pca_melb_data,new_columns.index('Price'), axis=1)"
      ],
      "execution_count": 23,
      "outputs": []
    },
    {
      "cell_type": "code",
      "metadata": {
        "colab": {
          "base_uri": "https://localhost:8080/"
        },
        "id": "gbLN5oKaX12K",
        "outputId": "b421299f-10f8-49c1-9f59-2c1c595fa81b"
      },
      "source": [
        "pca_melb_data.shape,melb_enc_ag_imp.shape"
      ],
      "execution_count": 24,
      "outputs": [
        {
          "output_type": "execute_result",
          "data": {
            "text/plain": [
              "((13298, 69), (13298, 70))"
            ]
          },
          "metadata": {},
          "execution_count": 24
        }
      ]
    },
    {
      "cell_type": "code",
      "metadata": {
        "colab": {
          "base_uri": "https://localhost:8080/"
        },
        "id": "juUxaBl5Jra-",
        "outputId": "e7359acf-fde7-4cfc-d34d-0ec0a2723478"
      },
      "source": [
        "from sklearn.decomposition import PCA\n",
        "pca = PCA(n_components=n)\n",
        "pca.fit(pca_melb_data)\n",
        "proyected_features = pca.transform(pca_melb_data)\n",
        "proyected_features.shape"
      ],
      "execution_count": 25,
      "outputs": [
        {
          "output_type": "execute_result",
          "data": {
            "text/plain": [
              "(13298, 20)"
            ]
          },
          "metadata": {},
          "execution_count": 25
        }
      ]
    },
    {
      "cell_type": "code",
      "metadata": {
        "colab": {
          "base_uri": "https://localhost:8080/"
        },
        "id": "4zuJWLcAKRwP",
        "outputId": "79ee3e53-a8ac-46a4-c8b6-1f2b78a01e2d"
      },
      "source": [
        "pca.explained_variance_ratio_"
      ],
      "execution_count": 26,
      "outputs": [
        {
          "output_type": "execute_result",
          "data": {
            "text/plain": [
              "array([0.16792026, 0.11150167, 0.06004118, 0.05644047, 0.05115258,\n",
              "       0.04955595, 0.046731  , 0.04245324, 0.03825322, 0.03014747,\n",
              "       0.0257457 , 0.02393283, 0.02279861, 0.01677588, 0.01204872,\n",
              "       0.01174117, 0.00945733, 0.00917095, 0.0083252 , 0.00797515])"
            ]
          },
          "metadata": {},
          "execution_count": 26
        }
      ]
    },
    {
      "cell_type": "markdown",
      "metadata": {
        "id": "vdF5u22lQFCp"
      },
      "source": [
        "Grafico de la varianza representada por componentes"
      ]
    },
    {
      "cell_type": "code",
      "metadata": {
        "colab": {
          "base_uri": "https://localhost:8080/",
          "height": 333
        },
        "id": "cL55eICMLD8s",
        "outputId": "72bf79bc-4c15-4e0b-e70c-e01e96cdef15"
      },
      "source": [
        "seaborn.lineplot(x=range(pca.n_components),\n",
        "                 y=pca.explained_variance_ratio_)\n",
        "plt.ylabel(\"Ratio of variance explained\")\n",
        "plt.xlabel(\"Components\")"
      ],
      "execution_count": 27,
      "outputs": [
        {
          "output_type": "execute_result",
          "data": {
            "text/plain": [
              "Text(0.5, 0, 'Components')"
            ]
          },
          "metadata": {},
          "execution_count": 27
        },
        {
          "output_type": "display_data",
          "data": {
            "image/png": "[encoded data removed]",
            "text/plain": [
              "<Figure size 432x288 with 1 Axes>"
            ]
          },
          "metadata": {
            "needs_background": "light"
          }
        }
      ]
    },
    {
      "cell_type": "markdown",
      "metadata": {
        "id": "hY7KJ7f3N96V"
      },
      "source": [
        "Observando la varianza capturada, decidimos utilizar las primeras 5 componentes del PCA"
      ]
    },
    {
      "cell_type": "code",
      "metadata": {
        "id": "IJxaM_qJN9g1"
      },
      "source": [
        "# Agregamos las primeras cinco componentes de PCA a la matriz\n",
        "melb_final = numpy.hstack([melb_all_imp,proyected_features[:,[0,1,2,3,4]]])\n",
        "# Agregamos nombres para columnas PCA en registro de nombres\n",
        "new_columns.extend(['pca1', 'pca2','pca3','pca4','pca5'])"
      ],
      "execution_count": 28,
      "outputs": []
    },
    {
      "cell_type": "markdown",
      "metadata": {
        "id": "WrZTYmG_ZyDy"
      },
      "source": [
        "## Ejercicio 4: Composición del resultado\n",
        "\n",
        "Transformar nuevamente el conjunto de datos procesado en un `pandas.DataFrame` y guardarlo en un archivo.\n",
        "\n",
        "Para eso, será necesario recordar el nombre original de cada columna de la matriz, en el orden correcto. Tener en cuenta:\n",
        "1. El método `OneHotEncoder.get_feature_names` o el atributo `OneHotEncoder.categories_` permiten obtener una lista con los valores de la categoría que le corresponde a cada índice de la matriz.\n",
        "2. Ninguno de los métodos aplicados intercambia de lugar las columnas o las filas de la matriz."
      ]
    },
    {
      "cell_type": "code",
      "metadata": {
        "colab": {
          "base_uri": "https://localhost:8080/"
        },
        "id": "sKUspHrzWEX3",
        "outputId": "24381a04-7ab6-4224-db7e-08c9f83f3fd3"
      },
      "source": [
        "melb_final.shape"
      ],
      "execution_count": 29,
      "outputs": [
        {
          "output_type": "execute_result",
          "data": {
            "text/plain": [
              "(13298, 75)"
            ]
          },
          "metadata": {},
          "execution_count": 29
        }
      ]
    },
    {
      "cell_type": "code",
      "metadata": {
        "colab": {
          "base_uri": "https://localhost:8080/",
          "height": 241
        },
        "id": "us10vZxYVyz1",
        "outputId": "178e5f2a-3cd9-48cc-8c00-56ba5d822471"
      },
      "source": [
        "## Re-build dataframe\n",
        "processed_melb_df = pandas.DataFrame(data=melb_final, columns=new_columns)\n",
        "processed_melb_df.head()"
      ],
      "execution_count": 30,
      "outputs": [
        {
          "output_type": "execute_result",
          "data": {
            "text/html": [
              "<div>\n",
              "<style scoped>\n",
              "    .dataframe tbody tr th:only-of-type {\n",
              "        vertical-align: middle;\n",
              "    }\n",
              "\n",
              "    .dataframe tbody tr th {\n",
              "        vertical-align: top;\n",
              "    }\n",
              "\n",
              "    .dataframe thead th {\n",
              "        text-align: right;\n",
              "    }\n",
              "</style>\n",
              "<table border=\"1\" class=\"dataframe\">\n",
              "  <thead>\n",
              "    <tr style=\"text-align: right;\">\n",
              "      <th></th>\n",
              "      <th>Suburb_red=Ascot Vale</th>\n",
              "      <th>Suburb_red=Balwyn North</th>\n",
              "      <th>Suburb_red=Bentleigh</th>\n",
              "      <th>Suburb_red=Bentleigh East</th>\n",
              "      <th>Suburb_red=Brighton</th>\n",
              "      <th>Suburb_red=Brighton East</th>\n",
              "      <th>Suburb_red=Brunswick</th>\n",
              "      <th>Suburb_red=Brunswick West</th>\n",
              "      <th>Suburb_red=Camberwell</th>\n",
              "      <th>Suburb_red=Carnegie</th>\n",
              "      <th>Suburb_red=Coburg</th>\n",
              "      <th>Suburb_red=Doncaster</th>\n",
              "      <th>Suburb_red=Elwood</th>\n",
              "      <th>Suburb_red=Essendon</th>\n",
              "      <th>Suburb_red=Fawkner</th>\n",
              "      <th>Suburb_red=Footscray</th>\n",
              "      <th>Suburb_red=Glen Iris</th>\n",
              "      <th>Suburb_red=Glenroy</th>\n",
              "      <th>Suburb_red=Hampton</th>\n",
              "      <th>Suburb_red=Hawthorn</th>\n",
              "      <th>Suburb_red=Hawthorn East</th>\n",
              "      <th>Suburb_red=Keilor East</th>\n",
              "      <th>Suburb_red=Kensington</th>\n",
              "      <th>Suburb_red=Kew</th>\n",
              "      <th>Suburb_red=Malvern East</th>\n",
              "      <th>Suburb_red=Moonee Ponds</th>\n",
              "      <th>Suburb_red=Newport</th>\n",
              "      <th>Suburb_red=Northcote</th>\n",
              "      <th>Suburb_red=Other_Suburbs</th>\n",
              "      <th>Suburb_red=Pascoe Vale</th>\n",
              "      <th>Suburb_red=Port Melbourne</th>\n",
              "      <th>Suburb_red=Prahran</th>\n",
              "      <th>Suburb_red=Preston</th>\n",
              "      <th>Suburb_red=Reservoir</th>\n",
              "      <th>Suburb_red=Richmond</th>\n",
              "      <th>Suburb_red=South Yarra</th>\n",
              "      <th>Suburb_red=St Kilda</th>\n",
              "      <th>Suburb_red=Sunshine</th>\n",
              "      <th>Suburb_red=Surrey Hills</th>\n",
              "      <th>Suburb_red=Thornbury</th>\n",
              "      <th>Suburb_red=West Footscray</th>\n",
              "      <th>Suburb_red=Williamstown</th>\n",
              "      <th>Suburb_red=Yarraville</th>\n",
              "      <th>Type=h</th>\n",
              "      <th>Type=t</th>\n",
              "      <th>Type=u</th>\n",
              "      <th>month=1</th>\n",
              "      <th>month=2</th>\n",
              "      <th>month=3</th>\n",
              "      <th>month=4</th>\n",
              "      <th>month=5</th>\n",
              "      <th>month=6</th>\n",
              "      <th>month=7</th>\n",
              "      <th>month=8</th>\n",
              "      <th>month=9</th>\n",
              "      <th>month=10</th>\n",
              "      <th>month=11</th>\n",
              "      <th>month=12</th>\n",
              "      <th>Rooms</th>\n",
              "      <th>Bathroom</th>\n",
              "      <th>Car</th>\n",
              "      <th>Distance</th>\n",
              "      <th>Price</th>\n",
              "      <th>Lattitude</th>\n",
              "      <th>Longtitude</th>\n",
              "      <th>airbnb_price_mean</th>\n",
              "      <th>airbnb_weekly_price_mean</th>\n",
              "      <th>airbnb_monthly_price_mean</th>\n",
              "      <th>YearBuilt</th>\n",
              "      <th>BuildingArea</th>\n",
              "      <th>pca1</th>\n",
              "      <th>pca2</th>\n",
              "      <th>pca3</th>\n",
              "      <th>pca4</th>\n",
              "      <th>pca5</th>\n",
              "    </tr>\n",
              "  </thead>\n",
              "  <tbody>\n",
              "    <tr>\n",
              "      <th>0</th>\n",
              "      <td>0.0</td>\n",
              "      <td>0.0</td>\n",
              "      <td>0.0</td>\n",
              "      <td>0.0</td>\n",
              "      <td>0.0</td>\n",
              "      <td>0.0</td>\n",
              "      <td>0.0</td>\n",
              "      <td>0.0</td>\n",
              "      <td>0.0</td>\n",
              "      <td>0.0</td>\n",
              "      <td>0.0</td>\n",
              "      <td>0.0</td>\n",
              "      <td>0.0</td>\n",
              "      <td>0.0</td>\n",
              "      <td>0.0</td>\n",
              "      <td>0.0</td>\n",
              "      <td>0.0</td>\n",
              "      <td>0.0</td>\n",
              "      <td>0.0</td>\n",
              "      <td>0.0</td>\n",
              "      <td>0.0</td>\n",
              "      <td>0.0</td>\n",
              "      <td>0.0</td>\n",
              "      <td>0.0</td>\n",
              "      <td>0.0</td>\n",
              "      <td>0.0</td>\n",
              "      <td>0.0</td>\n",
              "      <td>0.0</td>\n",
              "      <td>1.0</td>\n",
              "      <td>0.0</td>\n",
              "      <td>0.0</td>\n",
              "      <td>0.0</td>\n",
              "      <td>0.0</td>\n",
              "      <td>0.0</td>\n",
              "      <td>0.0</td>\n",
              "      <td>0.0</td>\n",
              "      <td>0.0</td>\n",
              "      <td>0.0</td>\n",
              "      <td>0.0</td>\n",
              "      <td>0.0</td>\n",
              "      <td>0.0</td>\n",
              "      <td>0.0</td>\n",
              "      <td>0.0</td>\n",
              "      <td>1.0</td>\n",
              "      <td>0.0</td>\n",
              "      <td>0.0</td>\n",
              "      <td>0.0</td>\n",
              "      <td>0.0</td>\n",
              "      <td>1.0</td>\n",
              "      <td>0.0</td>\n",
              "      <td>0.0</td>\n",
              "      <td>0.0</td>\n",
              "      <td>0.0</td>\n",
              "      <td>0.0</td>\n",
              "      <td>0.0</td>\n",
              "      <td>0.0</td>\n",
              "      <td>0.0</td>\n",
              "      <td>0.0</td>\n",
              "      <td>2.0</td>\n",
              "      <td>1.0</td>\n",
              "      <td>1.0</td>\n",
              "      <td>2.5</td>\n",
              "      <td>1480000.0</td>\n",
              "      <td>-37.7996</td>\n",
              "      <td>144.9984</td>\n",
              "      <td>130.624031</td>\n",
              "      <td>605.152174</td>\n",
              "      <td>2187.032258</td>\n",
              "      <td>1923.2</td>\n",
              "      <td>99.8</td>\n",
              "      <td>-0.449294</td>\n",
              "      <td>0.373074</td>\n",
              "      <td>0.010900</td>\n",
              "      <td>0.189900</td>\n",
              "      <td>-0.296723</td>\n",
              "    </tr>\n",
              "    <tr>\n",
              "      <th>1</th>\n",
              "      <td>0.0</td>\n",
              "      <td>0.0</td>\n",
              "      <td>0.0</td>\n",
              "      <td>0.0</td>\n",
              "      <td>0.0</td>\n",
              "      <td>0.0</td>\n",
              "      <td>0.0</td>\n",
              "      <td>0.0</td>\n",
              "      <td>0.0</td>\n",
              "      <td>0.0</td>\n",
              "      <td>0.0</td>\n",
              "      <td>0.0</td>\n",
              "      <td>0.0</td>\n",
              "      <td>0.0</td>\n",
              "      <td>0.0</td>\n",
              "      <td>0.0</td>\n",
              "      <td>0.0</td>\n",
              "      <td>0.0</td>\n",
              "      <td>0.0</td>\n",
              "      <td>0.0</td>\n",
              "      <td>0.0</td>\n",
              "      <td>0.0</td>\n",
              "      <td>0.0</td>\n",
              "      <td>0.0</td>\n",
              "      <td>0.0</td>\n",
              "      <td>0.0</td>\n",
              "      <td>0.0</td>\n",
              "      <td>0.0</td>\n",
              "      <td>1.0</td>\n",
              "      <td>0.0</td>\n",
              "      <td>0.0</td>\n",
              "      <td>0.0</td>\n",
              "      <td>0.0</td>\n",
              "      <td>0.0</td>\n",
              "      <td>0.0</td>\n",
              "      <td>0.0</td>\n",
              "      <td>0.0</td>\n",
              "      <td>0.0</td>\n",
              "      <td>0.0</td>\n",
              "      <td>0.0</td>\n",
              "      <td>0.0</td>\n",
              "      <td>0.0</td>\n",
              "      <td>0.0</td>\n",
              "      <td>1.0</td>\n",
              "      <td>0.0</td>\n",
              "      <td>0.0</td>\n",
              "      <td>0.0</td>\n",
              "      <td>0.0</td>\n",
              "      <td>0.0</td>\n",
              "      <td>1.0</td>\n",
              "      <td>0.0</td>\n",
              "      <td>0.0</td>\n",
              "      <td>0.0</td>\n",
              "      <td>0.0</td>\n",
              "      <td>0.0</td>\n",
              "      <td>0.0</td>\n",
              "      <td>0.0</td>\n",
              "      <td>0.0</td>\n",
              "      <td>2.0</td>\n",
              "      <td>1.0</td>\n",
              "      <td>0.0</td>\n",
              "      <td>2.5</td>\n",
              "      <td>1035000.0</td>\n",
              "      <td>-37.8079</td>\n",
              "      <td>144.9934</td>\n",
              "      <td>130.624031</td>\n",
              "      <td>605.152174</td>\n",
              "      <td>2187.032258</td>\n",
              "      <td>1900.0</td>\n",
              "      <td>79.0</td>\n",
              "      <td>-0.397459</td>\n",
              "      <td>0.331148</td>\n",
              "      <td>0.010663</td>\n",
              "      <td>0.123312</td>\n",
              "      <td>-0.191268</td>\n",
              "    </tr>\n",
              "    <tr>\n",
              "      <th>2</th>\n",
              "      <td>0.0</td>\n",
              "      <td>0.0</td>\n",
              "      <td>0.0</td>\n",
              "      <td>0.0</td>\n",
              "      <td>0.0</td>\n",
              "      <td>0.0</td>\n",
              "      <td>0.0</td>\n",
              "      <td>0.0</td>\n",
              "      <td>0.0</td>\n",
              "      <td>0.0</td>\n",
              "      <td>0.0</td>\n",
              "      <td>0.0</td>\n",
              "      <td>0.0</td>\n",
              "      <td>0.0</td>\n",
              "      <td>0.0</td>\n",
              "      <td>0.0</td>\n",
              "      <td>0.0</td>\n",
              "      <td>0.0</td>\n",
              "      <td>0.0</td>\n",
              "      <td>0.0</td>\n",
              "      <td>0.0</td>\n",
              "      <td>0.0</td>\n",
              "      <td>0.0</td>\n",
              "      <td>0.0</td>\n",
              "      <td>0.0</td>\n",
              "      <td>0.0</td>\n",
              "      <td>0.0</td>\n",
              "      <td>0.0</td>\n",
              "      <td>1.0</td>\n",
              "      <td>0.0</td>\n",
              "      <td>0.0</td>\n",
              "      <td>0.0</td>\n",
              "      <td>0.0</td>\n",
              "      <td>0.0</td>\n",
              "      <td>0.0</td>\n",
              "      <td>0.0</td>\n",
              "      <td>0.0</td>\n",
              "      <td>0.0</td>\n",
              "      <td>0.0</td>\n",
              "      <td>0.0</td>\n",
              "      <td>0.0</td>\n",
              "      <td>0.0</td>\n",
              "      <td>0.0</td>\n",
              "      <td>1.0</td>\n",
              "      <td>0.0</td>\n",
              "      <td>0.0</td>\n",
              "      <td>0.0</td>\n",
              "      <td>0.0</td>\n",
              "      <td>0.0</td>\n",
              "      <td>1.0</td>\n",
              "      <td>0.0</td>\n",
              "      <td>0.0</td>\n",
              "      <td>0.0</td>\n",
              "      <td>0.0</td>\n",
              "      <td>0.0</td>\n",
              "      <td>0.0</td>\n",
              "      <td>0.0</td>\n",
              "      <td>0.0</td>\n",
              "      <td>3.0</td>\n",
              "      <td>2.0</td>\n",
              "      <td>0.0</td>\n",
              "      <td>2.5</td>\n",
              "      <td>1465000.0</td>\n",
              "      <td>-37.8093</td>\n",
              "      <td>144.9944</td>\n",
              "      <td>130.624031</td>\n",
              "      <td>605.152174</td>\n",
              "      <td>2187.032258</td>\n",
              "      <td>1900.0</td>\n",
              "      <td>150.0</td>\n",
              "      <td>-0.433375</td>\n",
              "      <td>0.327007</td>\n",
              "      <td>0.010070</td>\n",
              "      <td>0.129148</td>\n",
              "      <td>-0.185697</td>\n",
              "    </tr>\n",
              "    <tr>\n",
              "      <th>3</th>\n",
              "      <td>0.0</td>\n",
              "      <td>0.0</td>\n",
              "      <td>0.0</td>\n",
              "      <td>0.0</td>\n",
              "      <td>0.0</td>\n",
              "      <td>0.0</td>\n",
              "      <td>0.0</td>\n",
              "      <td>0.0</td>\n",
              "      <td>0.0</td>\n",
              "      <td>0.0</td>\n",
              "      <td>0.0</td>\n",
              "      <td>0.0</td>\n",
              "      <td>0.0</td>\n",
              "      <td>0.0</td>\n",
              "      <td>0.0</td>\n",
              "      <td>0.0</td>\n",
              "      <td>0.0</td>\n",
              "      <td>0.0</td>\n",
              "      <td>0.0</td>\n",
              "      <td>0.0</td>\n",
              "      <td>0.0</td>\n",
              "      <td>0.0</td>\n",
              "      <td>0.0</td>\n",
              "      <td>0.0</td>\n",
              "      <td>0.0</td>\n",
              "      <td>0.0</td>\n",
              "      <td>0.0</td>\n",
              "      <td>0.0</td>\n",
              "      <td>1.0</td>\n",
              "      <td>0.0</td>\n",
              "      <td>0.0</td>\n",
              "      <td>0.0</td>\n",
              "      <td>0.0</td>\n",
              "      <td>0.0</td>\n",
              "      <td>0.0</td>\n",
              "      <td>0.0</td>\n",
              "      <td>0.0</td>\n",
              "      <td>0.0</td>\n",
              "      <td>0.0</td>\n",
              "      <td>0.0</td>\n",
              "      <td>0.0</td>\n",
              "      <td>0.0</td>\n",
              "      <td>0.0</td>\n",
              "      <td>1.0</td>\n",
              "      <td>0.0</td>\n",
              "      <td>0.0</td>\n",
              "      <td>0.0</td>\n",
              "      <td>0.0</td>\n",
              "      <td>0.0</td>\n",
              "      <td>1.0</td>\n",
              "      <td>0.0</td>\n",
              "      <td>0.0</td>\n",
              "      <td>0.0</td>\n",
              "      <td>0.0</td>\n",
              "      <td>0.0</td>\n",
              "      <td>0.0</td>\n",
              "      <td>0.0</td>\n",
              "      <td>0.0</td>\n",
              "      <td>3.0</td>\n",
              "      <td>2.0</td>\n",
              "      <td>1.0</td>\n",
              "      <td>2.5</td>\n",
              "      <td>850000.0</td>\n",
              "      <td>-37.7969</td>\n",
              "      <td>144.9969</td>\n",
              "      <td>130.624031</td>\n",
              "      <td>605.152174</td>\n",
              "      <td>2187.032258</td>\n",
              "      <td>1918.8</td>\n",
              "      <td>126.8</td>\n",
              "      <td>-0.451264</td>\n",
              "      <td>0.325647</td>\n",
              "      <td>0.008345</td>\n",
              "      <td>0.129109</td>\n",
              "      <td>-0.184711</td>\n",
              "    </tr>\n",
              "    <tr>\n",
              "      <th>4</th>\n",
              "      <td>0.0</td>\n",
              "      <td>0.0</td>\n",
              "      <td>0.0</td>\n",
              "      <td>0.0</td>\n",
              "      <td>0.0</td>\n",
              "      <td>0.0</td>\n",
              "      <td>0.0</td>\n",
              "      <td>0.0</td>\n",
              "      <td>0.0</td>\n",
              "      <td>0.0</td>\n",
              "      <td>0.0</td>\n",
              "      <td>0.0</td>\n",
              "      <td>0.0</td>\n",
              "      <td>0.0</td>\n",
              "      <td>0.0</td>\n",
              "      <td>0.0</td>\n",
              "      <td>0.0</td>\n",
              "      <td>0.0</td>\n",
              "      <td>0.0</td>\n",
              "      <td>0.0</td>\n",
              "      <td>0.0</td>\n",
              "      <td>0.0</td>\n",
              "      <td>0.0</td>\n",
              "      <td>0.0</td>\n",
              "      <td>0.0</td>\n",
              "      <td>0.0</td>\n",
              "      <td>0.0</td>\n",
              "      <td>0.0</td>\n",
              "      <td>1.0</td>\n",
              "      <td>0.0</td>\n",
              "      <td>0.0</td>\n",
              "      <td>0.0</td>\n",
              "      <td>0.0</td>\n",
              "      <td>0.0</td>\n",
              "      <td>0.0</td>\n",
              "      <td>0.0</td>\n",
              "      <td>0.0</td>\n",
              "      <td>0.0</td>\n",
              "      <td>0.0</td>\n",
              "      <td>0.0</td>\n",
              "      <td>0.0</td>\n",
              "      <td>0.0</td>\n",
              "      <td>0.0</td>\n",
              "      <td>1.0</td>\n",
              "      <td>0.0</td>\n",
              "      <td>0.0</td>\n",
              "      <td>0.0</td>\n",
              "      <td>0.0</td>\n",
              "      <td>0.0</td>\n",
              "      <td>1.0</td>\n",
              "      <td>0.0</td>\n",
              "      <td>0.0</td>\n",
              "      <td>0.0</td>\n",
              "      <td>0.0</td>\n",
              "      <td>0.0</td>\n",
              "      <td>0.0</td>\n",
              "      <td>0.0</td>\n",
              "      <td>0.0</td>\n",
              "      <td>4.0</td>\n",
              "      <td>1.0</td>\n",
              "      <td>2.0</td>\n",
              "      <td>2.5</td>\n",
              "      <td>1600000.0</td>\n",
              "      <td>-37.8072</td>\n",
              "      <td>144.9941</td>\n",
              "      <td>130.624031</td>\n",
              "      <td>605.152174</td>\n",
              "      <td>2187.032258</td>\n",
              "      <td>2014.0</td>\n",
              "      <td>142.0</td>\n",
              "      <td>-0.480886</td>\n",
              "      <td>0.323395</td>\n",
              "      <td>0.005185</td>\n",
              "      <td>0.128264</td>\n",
              "      <td>-0.184304</td>\n",
              "    </tr>\n",
              "  </tbody>\n",
              "</table>\n",
              "</div>"
            ],
            "text/plain": [
              "   Suburb_red=Ascot Vale  Suburb_red=Balwyn North  ...      pca4      pca5\n",
              "0                    0.0                      0.0  ...  0.189900 -0.296723\n",
              "1                    0.0                      0.0  ...  0.123312 -0.191268\n",
              "2                    0.0                      0.0  ...  0.129148 -0.185697\n",
              "3                    0.0                      0.0  ...  0.129109 -0.184711\n",
              "4                    0.0                      0.0  ...  0.128264 -0.184304\n",
              "\n",
              "[5 rows x 75 columns]"
            ]
          },
          "metadata": {},
          "execution_count": 30
        }
      ]
    },
    {
      "cell_type": "code",
      "metadata": {
        "id": "Oqt7_1MHiUW2"
      },
      "source": [
        "# Almacenamos el dataset procesado en un archivo CSV\n",
        "processed_melb_df.to_csv(r'DataFrame_procesado.csv', index = False)"
      ],
      "execution_count": 31,
      "outputs": []
    },
    {
      "cell_type": "markdown",
      "metadata": {
        "id": "mVBLFc8PhRtW"
      },
      "source": [
        "## Ejercicio 5: Documentación\n",
        "\n",
        "En un documento `.pdf` o `.md` realizar un reporte de las operaciones que realizaron para obtener el conjunto de datos final. Se debe incluir:\n",
        "  1. Criterios de exclusión (o inclusión) de filas\n",
        "  2. Interpretación de las columnas presentes\n",
        "  2. Todas las transofrmaciones realizadas\n",
        "\n",
        "Este documento es de uso técnico exclusivamente, y su objetivo es permitir que otres desarrolladores puedan reproducir los mismos pasos y obtener el mismo resultado. Debe ser detallado pero consiso. Por ejemplo:\n",
        "\n",
        "```\n",
        "  ## Criterios de exclusión de ejemplos\n",
        "  1. Se eliminan ejemplos donde el año de construcción es previo a 1900\n",
        "  \n",
        "  ## Características seleccionadas\n",
        "  ### Características categóricas\n",
        "  1. Type: tipo de propiedad. 3 valores posibles\n",
        "  2. ...\n",
        "  Todas las características categóricas fueron codificadas con un\n",
        "  método OneHotEncoding utilizando como máximo sus 30 valores más \n",
        "  frecuentes.\n",
        "  \n",
        "  ### Características numéricas\n",
        "  1. Rooms: Cantidad de habitaciones\n",
        "  2. Distance: Distancia al centro de la ciudad.\n",
        "  3. airbnb_mean_price: Se agrega el precio promedio diario de \n",
        "     publicaciones de la plataforma AirBnB en el mismo código \n",
        "     postal. [Link al repositorio con datos externos].\n",
        "\n",
        "  ### Transformaciones:\n",
        "  1. Todas las características numéricas fueron estandarizadas.\n",
        "  2. La columna `Suburb` fue imputada utilizando el método ...\n",
        "  3. Las columnas `YearBuilt` y ... fueron imputadas utilizando el \n",
        "     algoritmo ...\n",
        "  4. ...\n",
        "\n",
        "  ### Datos aumentados\n",
        "  1. Se agregan las 5 primeras columnas obtenidas a través del\n",
        "     método de PCA, aplicado sobre el conjunto de datos\n",
        "     totalmente procesado.\n",
        "```\n"
      ]
    },
    {
      "cell_type": "markdown",
      "metadata": {
        "id": "JyJtW-mKXZYq"
      },
      "source": [
        "```\n",
        "## Criterios de exclusión de ejemplos\n",
        "  1. Se eliminan registros donde las variables 'price', 'car', 'bathroom', 'rooms'  superen en 2.5 veces el tercer cuartil, ya que estos valores son considerados valores extremos, y dichos ejemplos no son considerados relevantes para la población que se quiere evaluar.\n",
        "\n",
        "## Características seleccionadas\n",
        "  \n",
        "  ### Características categóricas\n",
        "  1. Suburb: zona residencial en las afueras de una ciudad de Melbourne.\n",
        "  2. Type: Tipo de propiedad, puede tomar los siguientes valores: \n",
        "    * h - house,cottage,villa, semi,terrace.\n",
        "    * u - unit, duplex.\n",
        "    * t - townhouse; dev site - development site; o res - other residential.\n",
        "  3. date: Fecha en la que fué vendida.\n",
        "  \n",
        "Todas las características categóricas fueron codificadas con un método OneHotEncoding.\n",
        "\n",
        "### Características numéricas\n",
        "\n",
        "  1. Price: Precio de la vivienda en dolares.\n",
        "  2. Rooms: Cantidad de habitaciones.\n",
        "  3. Distance: Distancia al centro de la ciudad.\n",
        "  4. Postcode: Codigo postal del dataset original (se utilizó para unir el dataset externo).\n",
        "  5. Bathroom: Numero de baños.\n",
        "  6. Car: Numero de cocheras.\n",
        "  7. Lattitude: Latitud.\n",
        "  8. Longtitude: Longitud.\n",
        "  9. zipcode: Codigo postal del dataset externo (se utilizó para unir al dataset original)\n",
        "  10. airbnb_price_mean: Se agrega el precio promedio diario de publicaciones de la plataforma AirBnB en el mismo código postal.\n",
        "  11. airbnb_record_count: Cantidad de regitros que existen sobre la variable 'price' para cada codigo postal en dataset Airbnb.\n",
        "  12. airbnb_weekly_price_mean: Se agrega el precio promedio semanal de publicaciones de la plataforma AirBnB en el mismo código postal.\n",
        "  13. airbnb_monthly_price_mean:  Se agrega el precio promedio mensual de publicaciones de la plataforma AirBnB en el mismo código postal.\n",
        "\n",
        "### Transformaciones:\n",
        "  1. Las variables 'airbnb_price_mean', 'airbnb_record_count', 'airbnb_weekly_price_mean', 'airbnb_monthly_price_mean' fueron imputadas utilizando el Simple Imputer utilizando como estrategia imputación por la media \n",
        "  2. Las columnas `YearBuilt` y 'BuildingArea fueron agregadas posteriormente a la matriz de datos obtenida, luego de realizar el encoding e imputadas utilizando el IterativeImputer con un estimador KNeighborsRegressor utilizando todo el conjunto de variables seleccionadas, siendo previamente escaladas con el metodo MinMaxScaler.\n",
        "\n",
        "### Datos aumentados\n",
        "  1. Se agregan las primeras 5 columnas correspondientes a las 5 primeras componentes principales, obtenidas a través del método de PCA, aplicado sobre el conjunto de datos totalmente procesado.\n",
        "```"
      ]
    }
  ]
}